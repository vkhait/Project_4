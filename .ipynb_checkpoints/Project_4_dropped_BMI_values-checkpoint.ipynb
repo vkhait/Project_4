{
 "cells": [
  {
   "cell_type": "markdown",
   "id": "c1f9c779",
   "metadata": {},
   "source": [
    "# Step 1"
   ]
  },
  {
   "cell_type": "code",
   "execution_count": 1,
   "id": "dd407312",
   "metadata": {},
   "outputs": [],
   "source": [
    "# Import Necessary Libraries\n",
    "import pandas as pd\n",
    "import numpy as np\n",
    "import matplotlib.pyplot as plt\n",
    "import seaborn as sns\n",
    "from pathlib import Path\n",
    "from pycaret.classification import *\n",
    "from sklearn.metrics import balanced_accuracy_score, confusion_matrix, classification_report, accuracy_score\n",
    "import matplotlib.pyplot as plt"
   ]
  },
  {
   "cell_type": "markdown",
   "id": "d613f669",
   "metadata": {},
   "source": [
    "# Step 2"
   ]
  },
  {
   "cell_type": "code",
   "execution_count": 2,
   "id": "a0d36b4b",
   "metadata": {},
   "outputs": [
    {
     "data": {
      "text/html": [
       "<div>\n",
       "<style scoped>\n",
       "    .dataframe tbody tr th:only-of-type {\n",
       "        vertical-align: middle;\n",
       "    }\n",
       "\n",
       "    .dataframe tbody tr th {\n",
       "        vertical-align: top;\n",
       "    }\n",
       "\n",
       "    .dataframe thead th {\n",
       "        text-align: right;\n",
       "    }\n",
       "</style>\n",
       "<table border=\"1\" class=\"dataframe\">\n",
       "  <thead>\n",
       "    <tr style=\"text-align: right;\">\n",
       "      <th></th>\n",
       "      <th>id</th>\n",
       "      <th>gender</th>\n",
       "      <th>age</th>\n",
       "      <th>hypertension</th>\n",
       "      <th>heart_disease</th>\n",
       "      <th>ever_married</th>\n",
       "      <th>work_type</th>\n",
       "      <th>Residence_type</th>\n",
       "      <th>avg_glucose_level</th>\n",
       "      <th>bmi</th>\n",
       "      <th>smoking_status</th>\n",
       "      <th>stroke</th>\n",
       "    </tr>\n",
       "  </thead>\n",
       "  <tbody>\n",
       "    <tr>\n",
       "      <th>0</th>\n",
       "      <td>9046</td>\n",
       "      <td>Male</td>\n",
       "      <td>67.0</td>\n",
       "      <td>0</td>\n",
       "      <td>1</td>\n",
       "      <td>Yes</td>\n",
       "      <td>Private</td>\n",
       "      <td>Urban</td>\n",
       "      <td>228.69</td>\n",
       "      <td>36.6</td>\n",
       "      <td>formerly smoked</td>\n",
       "      <td>1</td>\n",
       "    </tr>\n",
       "    <tr>\n",
       "      <th>1</th>\n",
       "      <td>51676</td>\n",
       "      <td>Female</td>\n",
       "      <td>61.0</td>\n",
       "      <td>0</td>\n",
       "      <td>0</td>\n",
       "      <td>Yes</td>\n",
       "      <td>Self-employed</td>\n",
       "      <td>Rural</td>\n",
       "      <td>202.21</td>\n",
       "      <td>NaN</td>\n",
       "      <td>never smoked</td>\n",
       "      <td>1</td>\n",
       "    </tr>\n",
       "    <tr>\n",
       "      <th>2</th>\n",
       "      <td>31112</td>\n",
       "      <td>Male</td>\n",
       "      <td>80.0</td>\n",
       "      <td>0</td>\n",
       "      <td>1</td>\n",
       "      <td>Yes</td>\n",
       "      <td>Private</td>\n",
       "      <td>Rural</td>\n",
       "      <td>105.92</td>\n",
       "      <td>32.5</td>\n",
       "      <td>never smoked</td>\n",
       "      <td>1</td>\n",
       "    </tr>\n",
       "    <tr>\n",
       "      <th>3</th>\n",
       "      <td>60182</td>\n",
       "      <td>Female</td>\n",
       "      <td>49.0</td>\n",
       "      <td>0</td>\n",
       "      <td>0</td>\n",
       "      <td>Yes</td>\n",
       "      <td>Private</td>\n",
       "      <td>Urban</td>\n",
       "      <td>171.23</td>\n",
       "      <td>34.4</td>\n",
       "      <td>smokes</td>\n",
       "      <td>1</td>\n",
       "    </tr>\n",
       "    <tr>\n",
       "      <th>4</th>\n",
       "      <td>1665</td>\n",
       "      <td>Female</td>\n",
       "      <td>79.0</td>\n",
       "      <td>1</td>\n",
       "      <td>0</td>\n",
       "      <td>Yes</td>\n",
       "      <td>Self-employed</td>\n",
       "      <td>Rural</td>\n",
       "      <td>174.12</td>\n",
       "      <td>24.0</td>\n",
       "      <td>never smoked</td>\n",
       "      <td>1</td>\n",
       "    </tr>\n",
       "  </tbody>\n",
       "</table>\n",
       "</div>"
      ],
      "text/plain": [
       "      id  gender   age  hypertension  heart_disease ever_married  \\\n",
       "0   9046    Male  67.0             0              1          Yes   \n",
       "1  51676  Female  61.0             0              0          Yes   \n",
       "2  31112    Male  80.0             0              1          Yes   \n",
       "3  60182  Female  49.0             0              0          Yes   \n",
       "4   1665  Female  79.0             1              0          Yes   \n",
       "\n",
       "       work_type Residence_type  avg_glucose_level   bmi   smoking_status  \\\n",
       "0        Private          Urban             228.69  36.6  formerly smoked   \n",
       "1  Self-employed          Rural             202.21   NaN     never smoked   \n",
       "2        Private          Rural             105.92  32.5     never smoked   \n",
       "3        Private          Urban             171.23  34.4           smokes   \n",
       "4  Self-employed          Rural             174.12  24.0     never smoked   \n",
       "\n",
       "   stroke  \n",
       "0       1  \n",
       "1       1  \n",
       "2       1  \n",
       "3       1  \n",
       "4       1  "
      ]
     },
     "execution_count": 2,
     "metadata": {},
     "output_type": "execute_result"
    }
   ],
   "source": [
    "# Load the Data\n",
    "df = pd.read_csv(Path(\"Resources/healthcare-dataset-stroke-data.csv\"))\n",
    "df.head()"
   ]
  },
  {
   "cell_type": "markdown",
   "id": "8cf00a7e",
   "metadata": {},
   "source": [
    "# Step 3: Data Analysis"
   ]
  },
  {
   "cell_type": "code",
   "execution_count": 3,
   "id": "ea1208d0",
   "metadata": {},
   "outputs": [
    {
     "data": {
      "text/html": [
       "<div>\n",
       "<style scoped>\n",
       "    .dataframe tbody tr th:only-of-type {\n",
       "        vertical-align: middle;\n",
       "    }\n",
       "\n",
       "    .dataframe tbody tr th {\n",
       "        vertical-align: top;\n",
       "    }\n",
       "\n",
       "    .dataframe thead th {\n",
       "        text-align: right;\n",
       "    }\n",
       "</style>\n",
       "<table border=\"1\" class=\"dataframe\">\n",
       "  <thead>\n",
       "    <tr style=\"text-align: right;\">\n",
       "      <th></th>\n",
       "      <th>id</th>\n",
       "      <th>age</th>\n",
       "      <th>hypertension</th>\n",
       "      <th>heart_disease</th>\n",
       "      <th>avg_glucose_level</th>\n",
       "      <th>bmi</th>\n",
       "      <th>stroke</th>\n",
       "    </tr>\n",
       "  </thead>\n",
       "  <tbody>\n",
       "    <tr>\n",
       "      <th>count</th>\n",
       "      <td>5110.000000</td>\n",
       "      <td>5110.000000</td>\n",
       "      <td>5110.000000</td>\n",
       "      <td>5110.000000</td>\n",
       "      <td>5110.000000</td>\n",
       "      <td>4909.000000</td>\n",
       "      <td>5110.000000</td>\n",
       "    </tr>\n",
       "    <tr>\n",
       "      <th>mean</th>\n",
       "      <td>36517.829354</td>\n",
       "      <td>43.226614</td>\n",
       "      <td>0.097456</td>\n",
       "      <td>0.054012</td>\n",
       "      <td>106.147677</td>\n",
       "      <td>28.893237</td>\n",
       "      <td>0.048728</td>\n",
       "    </tr>\n",
       "    <tr>\n",
       "      <th>std</th>\n",
       "      <td>21161.721625</td>\n",
       "      <td>22.612647</td>\n",
       "      <td>0.296607</td>\n",
       "      <td>0.226063</td>\n",
       "      <td>45.283560</td>\n",
       "      <td>7.854067</td>\n",
       "      <td>0.215320</td>\n",
       "    </tr>\n",
       "    <tr>\n",
       "      <th>min</th>\n",
       "      <td>67.000000</td>\n",
       "      <td>0.080000</td>\n",
       "      <td>0.000000</td>\n",
       "      <td>0.000000</td>\n",
       "      <td>55.120000</td>\n",
       "      <td>10.300000</td>\n",
       "      <td>0.000000</td>\n",
       "    </tr>\n",
       "    <tr>\n",
       "      <th>25%</th>\n",
       "      <td>17741.250000</td>\n",
       "      <td>25.000000</td>\n",
       "      <td>0.000000</td>\n",
       "      <td>0.000000</td>\n",
       "      <td>77.245000</td>\n",
       "      <td>23.500000</td>\n",
       "      <td>0.000000</td>\n",
       "    </tr>\n",
       "    <tr>\n",
       "      <th>50%</th>\n",
       "      <td>36932.000000</td>\n",
       "      <td>45.000000</td>\n",
       "      <td>0.000000</td>\n",
       "      <td>0.000000</td>\n",
       "      <td>91.885000</td>\n",
       "      <td>28.100000</td>\n",
       "      <td>0.000000</td>\n",
       "    </tr>\n",
       "    <tr>\n",
       "      <th>75%</th>\n",
       "      <td>54682.000000</td>\n",
       "      <td>61.000000</td>\n",
       "      <td>0.000000</td>\n",
       "      <td>0.000000</td>\n",
       "      <td>114.090000</td>\n",
       "      <td>33.100000</td>\n",
       "      <td>0.000000</td>\n",
       "    </tr>\n",
       "    <tr>\n",
       "      <th>max</th>\n",
       "      <td>72940.000000</td>\n",
       "      <td>82.000000</td>\n",
       "      <td>1.000000</td>\n",
       "      <td>1.000000</td>\n",
       "      <td>271.740000</td>\n",
       "      <td>97.600000</td>\n",
       "      <td>1.000000</td>\n",
       "    </tr>\n",
       "  </tbody>\n",
       "</table>\n",
       "</div>"
      ],
      "text/plain": [
       "                 id          age  hypertension  heart_disease  \\\n",
       "count   5110.000000  5110.000000   5110.000000    5110.000000   \n",
       "mean   36517.829354    43.226614      0.097456       0.054012   \n",
       "std    21161.721625    22.612647      0.296607       0.226063   \n",
       "min       67.000000     0.080000      0.000000       0.000000   \n",
       "25%    17741.250000    25.000000      0.000000       0.000000   \n",
       "50%    36932.000000    45.000000      0.000000       0.000000   \n",
       "75%    54682.000000    61.000000      0.000000       0.000000   \n",
       "max    72940.000000    82.000000      1.000000       1.000000   \n",
       "\n",
       "       avg_glucose_level          bmi       stroke  \n",
       "count        5110.000000  4909.000000  5110.000000  \n",
       "mean          106.147677    28.893237     0.048728  \n",
       "std            45.283560     7.854067     0.215320  \n",
       "min            55.120000    10.300000     0.000000  \n",
       "25%            77.245000    23.500000     0.000000  \n",
       "50%            91.885000    28.100000     0.000000  \n",
       "75%           114.090000    33.100000     0.000000  \n",
       "max           271.740000    97.600000     1.000000  "
      ]
     },
     "execution_count": 3,
     "metadata": {},
     "output_type": "execute_result"
    }
   ],
   "source": [
    "# Looking at data to better understandance\n",
    "df.describe()"
   ]
  },
  {
   "cell_type": "code",
   "execution_count": 4,
   "id": "e6ef65d2",
   "metadata": {},
   "outputs": [
    {
     "data": {
      "text/plain": [
       "id                     int64\n",
       "gender                object\n",
       "age                  float64\n",
       "hypertension           int64\n",
       "heart_disease          int64\n",
       "ever_married          object\n",
       "work_type             object\n",
       "Residence_type        object\n",
       "avg_glucose_level    float64\n",
       "bmi                  float64\n",
       "smoking_status        object\n",
       "stroke                 int64\n",
       "dtype: object"
      ]
     },
     "execution_count": 4,
     "metadata": {},
     "output_type": "execute_result"
    }
   ],
   "source": [
    "# Check columns datatypes\n",
    "df.dtypes"
   ]
  },
  {
   "cell_type": "code",
   "execution_count": 5,
   "id": "7a312f05",
   "metadata": {},
   "outputs": [
    {
     "data": {
      "text/plain": [
       "0"
      ]
     },
     "execution_count": 5,
     "metadata": {},
     "output_type": "execute_result"
    }
   ],
   "source": [
    "#Checing duplicates\n",
    "df.duplicated().sum()"
   ]
  },
  {
   "cell_type": "code",
   "execution_count": 6,
   "id": "6c4f80d5",
   "metadata": {},
   "outputs": [
    {
     "name": "stdout",
     "output_type": "stream",
     "text": [
      "The dataset has 5110 rows and 12 columns.\n",
      "Missing values per column:\n",
      "id                     0\n",
      "gender                 0\n",
      "age                    0\n",
      "hypertension           0\n",
      "heart_disease          0\n",
      "ever_married           0\n",
      "work_type              0\n",
      "Residence_type         0\n",
      "avg_glucose_level      0\n",
      "bmi                  201\n",
      "smoking_status         0\n",
      "stroke                 0\n",
      "dtype: int64\n"
     ]
    }
   ],
   "source": [
    "#dataset info before droping values\n",
    "print(f'The dataset has {df.shape[0]} rows and {df.shape[1]} columns.')\n",
    "print('Missing values per column:')\n",
    "print(df.isnull().sum())"
   ]
  },
  {
   "cell_type": "code",
   "execution_count": 7,
   "id": "8eb3fab7",
   "metadata": {},
   "outputs": [],
   "source": [
    "# Remove missing values \n",
    "df.dropna(inplace = True)"
   ]
  },
  {
   "cell_type": "code",
   "execution_count": 8,
   "id": "1fcb4c69",
   "metadata": {},
   "outputs": [
    {
     "name": "stdout",
     "output_type": "stream",
     "text": [
      "The dataset has 4909 rows and 12 columns.\n",
      "Missing values per column:\n",
      "id                   0\n",
      "gender               0\n",
      "age                  0\n",
      "hypertension         0\n",
      "heart_disease        0\n",
      "ever_married         0\n",
      "work_type            0\n",
      "Residence_type       0\n",
      "avg_glucose_level    0\n",
      "bmi                  0\n",
      "smoking_status       0\n",
      "stroke               0\n",
      "dtype: int64\n"
     ]
    }
   ],
   "source": [
    "#dataset info after droping values\n",
    "print(f'The dataset has {df.shape[0]} rows and {df.shape[1]} columns.')\n",
    "print('Missing values per column:')\n",
    "print(df.isnull().sum())"
   ]
  },
  {
   "cell_type": "code",
   "execution_count": 9,
   "id": "4209c1ed",
   "metadata": {},
   "outputs": [
    {
     "data": {
      "text/html": [
       "<div>\n",
       "<style scoped>\n",
       "    .dataframe tbody tr th:only-of-type {\n",
       "        vertical-align: middle;\n",
       "    }\n",
       "\n",
       "    .dataframe tbody tr th {\n",
       "        vertical-align: top;\n",
       "    }\n",
       "\n",
       "    .dataframe thead th {\n",
       "        text-align: right;\n",
       "    }\n",
       "</style>\n",
       "<table border=\"1\" class=\"dataframe\">\n",
       "  <thead>\n",
       "    <tr style=\"text-align: right;\">\n",
       "      <th></th>\n",
       "      <th>id</th>\n",
       "      <th>gender</th>\n",
       "      <th>age</th>\n",
       "      <th>hypertension</th>\n",
       "      <th>heart_disease</th>\n",
       "      <th>ever_married</th>\n",
       "      <th>work_type</th>\n",
       "      <th>Residence_type</th>\n",
       "      <th>avg_glucose_level</th>\n",
       "      <th>bmi</th>\n",
       "      <th>smoking_status</th>\n",
       "      <th>stroke</th>\n",
       "    </tr>\n",
       "  </thead>\n",
       "  <tbody>\n",
       "    <tr>\n",
       "      <th>0</th>\n",
       "      <td>9046</td>\n",
       "      <td>Male</td>\n",
       "      <td>67.0</td>\n",
       "      <td>0</td>\n",
       "      <td>1</td>\n",
       "      <td>Yes</td>\n",
       "      <td>Private</td>\n",
       "      <td>Urban</td>\n",
       "      <td>228.69</td>\n",
       "      <td>36.6</td>\n",
       "      <td>formerly smoked</td>\n",
       "      <td>1</td>\n",
       "    </tr>\n",
       "    <tr>\n",
       "      <th>2</th>\n",
       "      <td>31112</td>\n",
       "      <td>Male</td>\n",
       "      <td>80.0</td>\n",
       "      <td>0</td>\n",
       "      <td>1</td>\n",
       "      <td>Yes</td>\n",
       "      <td>Private</td>\n",
       "      <td>Rural</td>\n",
       "      <td>105.92</td>\n",
       "      <td>32.5</td>\n",
       "      <td>never smoked</td>\n",
       "      <td>1</td>\n",
       "    </tr>\n",
       "    <tr>\n",
       "      <th>3</th>\n",
       "      <td>60182</td>\n",
       "      <td>Female</td>\n",
       "      <td>49.0</td>\n",
       "      <td>0</td>\n",
       "      <td>0</td>\n",
       "      <td>Yes</td>\n",
       "      <td>Private</td>\n",
       "      <td>Urban</td>\n",
       "      <td>171.23</td>\n",
       "      <td>34.4</td>\n",
       "      <td>smokes</td>\n",
       "      <td>1</td>\n",
       "    </tr>\n",
       "    <tr>\n",
       "      <th>4</th>\n",
       "      <td>1665</td>\n",
       "      <td>Female</td>\n",
       "      <td>79.0</td>\n",
       "      <td>1</td>\n",
       "      <td>0</td>\n",
       "      <td>Yes</td>\n",
       "      <td>Self-employed</td>\n",
       "      <td>Rural</td>\n",
       "      <td>174.12</td>\n",
       "      <td>24.0</td>\n",
       "      <td>never smoked</td>\n",
       "      <td>1</td>\n",
       "    </tr>\n",
       "    <tr>\n",
       "      <th>5</th>\n",
       "      <td>56669</td>\n",
       "      <td>Male</td>\n",
       "      <td>81.0</td>\n",
       "      <td>0</td>\n",
       "      <td>0</td>\n",
       "      <td>Yes</td>\n",
       "      <td>Private</td>\n",
       "      <td>Urban</td>\n",
       "      <td>186.21</td>\n",
       "      <td>29.0</td>\n",
       "      <td>formerly smoked</td>\n",
       "      <td>1</td>\n",
       "    </tr>\n",
       "  </tbody>\n",
       "</table>\n",
       "</div>"
      ],
      "text/plain": [
       "      id  gender   age  hypertension  heart_disease ever_married  \\\n",
       "0   9046    Male  67.0             0              1          Yes   \n",
       "2  31112    Male  80.0             0              1          Yes   \n",
       "3  60182  Female  49.0             0              0          Yes   \n",
       "4   1665  Female  79.0             1              0          Yes   \n",
       "5  56669    Male  81.0             0              0          Yes   \n",
       "\n",
       "       work_type Residence_type  avg_glucose_level   bmi   smoking_status  \\\n",
       "0        Private          Urban             228.69  36.6  formerly smoked   \n",
       "2        Private          Rural             105.92  32.5     never smoked   \n",
       "3        Private          Urban             171.23  34.4           smokes   \n",
       "4  Self-employed          Rural             174.12  24.0     never smoked   \n",
       "5        Private          Urban             186.21  29.0  formerly smoked   \n",
       "\n",
       "   stroke  \n",
       "0       1  \n",
       "2       1  \n",
       "3       1  \n",
       "4       1  \n",
       "5       1  "
      ]
     },
     "execution_count": 9,
     "metadata": {},
     "output_type": "execute_result"
    }
   ],
   "source": [
    "# Copying dataset for future use\n",
    "df_clean = df.copy()\n",
    "df.head(5)"
   ]
  },
  {
   "cell_type": "code",
   "execution_count": 10,
   "id": "998957a6",
   "metadata": {},
   "outputs": [
    {
     "data": {
      "text/plain": [
       "Female    2897\n",
       "Male      2011\n",
       "Other        1\n",
       "Name: gender, dtype: int64"
      ]
     },
     "execution_count": 10,
     "metadata": {},
     "output_type": "execute_result"
    }
   ],
   "source": [
    "#Checing values in Gender column\n",
    "df_clean[\"gender\"].value_counts()"
   ]
  },
  {
   "cell_type": "code",
   "execution_count": 11,
   "id": "768f277a",
   "metadata": {},
   "outputs": [
    {
     "data": {
      "text/plain": [
       "3116"
      ]
     },
     "execution_count": 11,
     "metadata": {},
     "output_type": "execute_result"
    }
   ],
   "source": [
    "#finding index for gender value other\n",
    "other = df_clean.loc[df_clean['gender']=='Other']\n",
    "other.index[0]"
   ]
  },
  {
   "cell_type": "code",
   "execution_count": 12,
   "id": "e4e108a2",
   "metadata": {},
   "outputs": [],
   "source": [
    "#drop that value\n",
    "df_clean = df_clean.drop(other.index[0])"
   ]
  },
  {
   "cell_type": "code",
   "execution_count": 13,
   "id": "94ef06b3",
   "metadata": {},
   "outputs": [
    {
     "data": {
      "text/plain": [
       "Female    2897\n",
       "Male      2011\n",
       "Name: gender, dtype: int64"
      ]
     },
     "execution_count": 13,
     "metadata": {},
     "output_type": "execute_result"
    }
   ],
   "source": [
    "#cheking that value has been dropped\n",
    "df_clean[\"gender\"].value_counts()"
   ]
  },
  {
   "cell_type": "code",
   "execution_count": 14,
   "id": "86a64f59",
   "metadata": {},
   "outputs": [],
   "source": [
    "# Convert values for Gender Male to 1 and Female to 0\n",
    "# and ever_married Yes to 1 and No to 0\n",
    "df_clean['gender'] = df_clean['gender'].map({'Male': 1, 'Female': 0})\n",
    "df_clean['ever_married'] = df_clean['ever_married'].map({'Yes': 1, 'No': 0})"
   ]
  },
  {
   "cell_type": "code",
   "execution_count": 15,
   "id": "d07b9a9c",
   "metadata": {},
   "outputs": [],
   "source": [
    "# Convert values for Residence_type Urban to 1 and Rural to 0\n",
    "df_clean['Residence_type'] = df_clean['Residence_type'].map({'Urban': 1, 'Rural': 0})"
   ]
  },
  {
   "cell_type": "code",
   "execution_count": 16,
   "id": "6ce9a795",
   "metadata": {},
   "outputs": [
    {
     "data": {
      "text/plain": [
       "Private          2810\n",
       "Self-employed     775\n",
       "children          671\n",
       "Govt_job          630\n",
       "Never_worked       22\n",
       "Name: work_type, dtype: int64"
      ]
     },
     "execution_count": 16,
     "metadata": {},
     "output_type": "execute_result"
    }
   ],
   "source": [
    "#Checking what values are available in work types column\n",
    "df_clean[\"work_type\"].value_counts()"
   ]
  },
  {
   "cell_type": "code",
   "execution_count": 17,
   "id": "43c813ae",
   "metadata": {},
   "outputs": [],
   "source": [
    "# Convert values for work type \n",
    "df_clean['work_type'] = df_clean['work_type'].map({'Private': 0, 'Self-employed': 1,'children':2,'Govt_job':3,'Never_worked':4})"
   ]
  },
  {
   "cell_type": "code",
   "execution_count": 18,
   "id": "c78fb1d2",
   "metadata": {},
   "outputs": [
    {
     "data": {
      "text/plain": [
       "never smoked       1852\n",
       "Unknown            1483\n",
       "formerly smoked     836\n",
       "smokes              737\n",
       "Name: smoking_status, dtype: int64"
      ]
     },
     "execution_count": 18,
     "metadata": {},
     "output_type": "execute_result"
    }
   ],
   "source": [
    "#Checking what values are available in smoking status column\n",
    "df_clean[\"smoking_status\"].value_counts()"
   ]
  },
  {
   "cell_type": "code",
   "execution_count": 19,
   "id": "41d9274e",
   "metadata": {},
   "outputs": [],
   "source": [
    "# Convert values for smoking status\n",
    "df_clean['smoking_status'] = df_clean['smoking_status'].map({'never smoked': 0, 'Unknown': 1,'formerly smoked':2,'smokes':3})"
   ]
  },
  {
   "cell_type": "code",
   "execution_count": 20,
   "id": "7239b718",
   "metadata": {},
   "outputs": [],
   "source": [
    "#copying data set for future use\n",
    "df_ready = df_clean.copy()"
   ]
  },
  {
   "cell_type": "code",
   "execution_count": 21,
   "id": "043defdb",
   "metadata": {},
   "outputs": [
    {
     "data": {
      "text/html": [
       "<div>\n",
       "<style scoped>\n",
       "    .dataframe tbody tr th:only-of-type {\n",
       "        vertical-align: middle;\n",
       "    }\n",
       "\n",
       "    .dataframe tbody tr th {\n",
       "        vertical-align: top;\n",
       "    }\n",
       "\n",
       "    .dataframe thead th {\n",
       "        text-align: right;\n",
       "    }\n",
       "</style>\n",
       "<table border=\"1\" class=\"dataframe\">\n",
       "  <thead>\n",
       "    <tr style=\"text-align: right;\">\n",
       "      <th></th>\n",
       "      <th>gender</th>\n",
       "      <th>age</th>\n",
       "      <th>hypertension</th>\n",
       "      <th>heart_disease</th>\n",
       "      <th>ever_married</th>\n",
       "      <th>work_type</th>\n",
       "      <th>Residence_type</th>\n",
       "      <th>avg_glucose_level</th>\n",
       "      <th>bmi</th>\n",
       "      <th>smoking_status</th>\n",
       "      <th>stroke</th>\n",
       "    </tr>\n",
       "  </thead>\n",
       "  <tbody>\n",
       "    <tr>\n",
       "      <th>0</th>\n",
       "      <td>1</td>\n",
       "      <td>67.0</td>\n",
       "      <td>0</td>\n",
       "      <td>1</td>\n",
       "      <td>1</td>\n",
       "      <td>0</td>\n",
       "      <td>1</td>\n",
       "      <td>228.69</td>\n",
       "      <td>36.6</td>\n",
       "      <td>2</td>\n",
       "      <td>1</td>\n",
       "    </tr>\n",
       "    <tr>\n",
       "      <th>2</th>\n",
       "      <td>1</td>\n",
       "      <td>80.0</td>\n",
       "      <td>0</td>\n",
       "      <td>1</td>\n",
       "      <td>1</td>\n",
       "      <td>0</td>\n",
       "      <td>0</td>\n",
       "      <td>105.92</td>\n",
       "      <td>32.5</td>\n",
       "      <td>0</td>\n",
       "      <td>1</td>\n",
       "    </tr>\n",
       "    <tr>\n",
       "      <th>3</th>\n",
       "      <td>0</td>\n",
       "      <td>49.0</td>\n",
       "      <td>0</td>\n",
       "      <td>0</td>\n",
       "      <td>1</td>\n",
       "      <td>0</td>\n",
       "      <td>1</td>\n",
       "      <td>171.23</td>\n",
       "      <td>34.4</td>\n",
       "      <td>3</td>\n",
       "      <td>1</td>\n",
       "    </tr>\n",
       "    <tr>\n",
       "      <th>4</th>\n",
       "      <td>0</td>\n",
       "      <td>79.0</td>\n",
       "      <td>1</td>\n",
       "      <td>0</td>\n",
       "      <td>1</td>\n",
       "      <td>1</td>\n",
       "      <td>0</td>\n",
       "      <td>174.12</td>\n",
       "      <td>24.0</td>\n",
       "      <td>0</td>\n",
       "      <td>1</td>\n",
       "    </tr>\n",
       "    <tr>\n",
       "      <th>5</th>\n",
       "      <td>1</td>\n",
       "      <td>81.0</td>\n",
       "      <td>0</td>\n",
       "      <td>0</td>\n",
       "      <td>1</td>\n",
       "      <td>0</td>\n",
       "      <td>1</td>\n",
       "      <td>186.21</td>\n",
       "      <td>29.0</td>\n",
       "      <td>2</td>\n",
       "      <td>1</td>\n",
       "    </tr>\n",
       "    <tr>\n",
       "      <th>...</th>\n",
       "      <td>...</td>\n",
       "      <td>...</td>\n",
       "      <td>...</td>\n",
       "      <td>...</td>\n",
       "      <td>...</td>\n",
       "      <td>...</td>\n",
       "      <td>...</td>\n",
       "      <td>...</td>\n",
       "      <td>...</td>\n",
       "      <td>...</td>\n",
       "      <td>...</td>\n",
       "    </tr>\n",
       "    <tr>\n",
       "      <th>5104</th>\n",
       "      <td>0</td>\n",
       "      <td>13.0</td>\n",
       "      <td>0</td>\n",
       "      <td>0</td>\n",
       "      <td>0</td>\n",
       "      <td>2</td>\n",
       "      <td>0</td>\n",
       "      <td>103.08</td>\n",
       "      <td>18.6</td>\n",
       "      <td>1</td>\n",
       "      <td>0</td>\n",
       "    </tr>\n",
       "    <tr>\n",
       "      <th>5106</th>\n",
       "      <td>0</td>\n",
       "      <td>81.0</td>\n",
       "      <td>0</td>\n",
       "      <td>0</td>\n",
       "      <td>1</td>\n",
       "      <td>1</td>\n",
       "      <td>1</td>\n",
       "      <td>125.20</td>\n",
       "      <td>40.0</td>\n",
       "      <td>0</td>\n",
       "      <td>0</td>\n",
       "    </tr>\n",
       "    <tr>\n",
       "      <th>5107</th>\n",
       "      <td>0</td>\n",
       "      <td>35.0</td>\n",
       "      <td>0</td>\n",
       "      <td>0</td>\n",
       "      <td>1</td>\n",
       "      <td>1</td>\n",
       "      <td>0</td>\n",
       "      <td>82.99</td>\n",
       "      <td>30.6</td>\n",
       "      <td>0</td>\n",
       "      <td>0</td>\n",
       "    </tr>\n",
       "    <tr>\n",
       "      <th>5108</th>\n",
       "      <td>1</td>\n",
       "      <td>51.0</td>\n",
       "      <td>0</td>\n",
       "      <td>0</td>\n",
       "      <td>1</td>\n",
       "      <td>0</td>\n",
       "      <td>0</td>\n",
       "      <td>166.29</td>\n",
       "      <td>25.6</td>\n",
       "      <td>2</td>\n",
       "      <td>0</td>\n",
       "    </tr>\n",
       "    <tr>\n",
       "      <th>5109</th>\n",
       "      <td>0</td>\n",
       "      <td>44.0</td>\n",
       "      <td>0</td>\n",
       "      <td>0</td>\n",
       "      <td>1</td>\n",
       "      <td>3</td>\n",
       "      <td>1</td>\n",
       "      <td>85.28</td>\n",
       "      <td>26.2</td>\n",
       "      <td>1</td>\n",
       "      <td>0</td>\n",
       "    </tr>\n",
       "  </tbody>\n",
       "</table>\n",
       "<p>4908 rows × 11 columns</p>\n",
       "</div>"
      ],
      "text/plain": [
       "      gender   age  hypertension  heart_disease  ever_married  work_type  \\\n",
       "0          1  67.0             0              1             1          0   \n",
       "2          1  80.0             0              1             1          0   \n",
       "3          0  49.0             0              0             1          0   \n",
       "4          0  79.0             1              0             1          1   \n",
       "5          1  81.0             0              0             1          0   \n",
       "...      ...   ...           ...            ...           ...        ...   \n",
       "5104       0  13.0             0              0             0          2   \n",
       "5106       0  81.0             0              0             1          1   \n",
       "5107       0  35.0             0              0             1          1   \n",
       "5108       1  51.0             0              0             1          0   \n",
       "5109       0  44.0             0              0             1          3   \n",
       "\n",
       "      Residence_type  avg_glucose_level   bmi  smoking_status  stroke  \n",
       "0                  1             228.69  36.6               2       1  \n",
       "2                  0             105.92  32.5               0       1  \n",
       "3                  1             171.23  34.4               3       1  \n",
       "4                  0             174.12  24.0               0       1  \n",
       "5                  1             186.21  29.0               2       1  \n",
       "...              ...                ...   ...             ...     ...  \n",
       "5104               0             103.08  18.6               1       0  \n",
       "5106               1             125.20  40.0               0       0  \n",
       "5107               0              82.99  30.6               0       0  \n",
       "5108               0             166.29  25.6               2       0  \n",
       "5109               1              85.28  26.2               1       0  \n",
       "\n",
       "[4908 rows x 11 columns]"
      ]
     },
     "execution_count": 21,
     "metadata": {},
     "output_type": "execute_result"
    }
   ],
   "source": [
    "#dropping column id, as it's not needed in future machine learning \n",
    "df_ready = df_ready.drop(columns=['id'])\n",
    "df_ready"
   ]
  },
  {
   "cell_type": "code",
   "execution_count": 22,
   "id": "19441c0c",
   "metadata": {},
   "outputs": [
    {
     "data": {
      "text/plain": [
       "0    4699\n",
       "1     209\n",
       "Name: stroke, dtype: int64"
      ]
     },
     "execution_count": 22,
     "metadata": {},
     "output_type": "execute_result"
    }
   ],
   "source": [
    "#cheking values in stroke columns\n",
    "df_ready[\"stroke\"].value_counts()"
   ]
  },
  {
   "cell_type": "code",
   "execution_count": 23,
   "id": "a76f639f",
   "metadata": {},
   "outputs": [],
   "source": [
    "#save cleaned data frame to csv\n",
    "df_ready.to_csv('Resources/datacleaned.csv', index=False)"
   ]
  },
  {
   "cell_type": "code",
   "execution_count": 24,
   "id": "1052f0d8",
   "metadata": {},
   "outputs": [
    {
     "name": "stdout",
     "output_type": "stream",
     "text": [
      "           age  avg_glucose_level       bmi  gender  hypertension  \\\n",
      "0     1.069938           2.777797  0.981145       1             0   \n",
      "2     0.271847           1.484266  0.701016       1             0   \n",
      "3     1.601998           1.549325 -0.623231       0             0   \n",
      "4     1.690675           1.821493  0.013426       0             1   \n",
      "5     1.380306          -0.792584 -0.190304       1             0   \n",
      "...        ...                ...       ...     ...           ...   \n",
      "4903 -1.324334          -0.049918 -1.310821       0             0   \n",
      "4904  1.690675           0.448045  1.414072       0             0   \n",
      "4905 -0.348890          -0.502181  0.217156       0             0   \n",
      "4906  0.360524           1.373057 -0.419501       0             0   \n",
      "4907  0.050155          -0.450629 -0.343102       1             0   \n",
      "\n",
      "      heart_disease  ever_married  work_type  Residence_type  smoking_status  \\\n",
      "0                 1             1          0               1               2   \n",
      "2                 1             1          0               0               0   \n",
      "3                 0             1          0               1               3   \n",
      "4                 0             1          1               0               0   \n",
      "5                 0             1          0               1               2   \n",
      "...             ...           ...        ...             ...             ...   \n",
      "4903              0             0          0               0               1   \n",
      "4904              0             0          2               0               1   \n",
      "4905              0             1          0               0               3   \n",
      "4906              0             1          0               1               0   \n",
      "4907              0             1          0               0               2   \n",
      "\n",
      "      stroke  \n",
      "0          1  \n",
      "2          1  \n",
      "3          1  \n",
      "4          1  \n",
      "5          1  \n",
      "...      ...  \n",
      "4903       0  \n",
      "4904       0  \n",
      "4905       0  \n",
      "4906       0  \n",
      "4907       0  \n",
      "\n",
      "[4715 rows x 11 columns]\n"
     ]
    }
   ],
   "source": [
    "#scale the age, average glucose level and bmi columns\n",
    "df1 = df_ready.copy()\n",
    "dfy = df_ready['stroke']\n",
    "df1 = df1.drop(columns=\"stroke\")\n",
    "df11 = df1[[\"age\", \"avg_glucose_level\", \"bmi\"]]\n",
    "df12 = df1.drop(columns=[\"age\", \"avg_glucose_level\", \"bmi\"])\n",
    "from sklearn import preprocessing\n",
    "d = preprocessing.scale(df11)\n",
    "scaled_df = pd.DataFrame(d)\n",
    "scaled_df.columns = [\"age\",\"avg_glucose_level\", \"bmi\"]\n",
    "scaled_df = pd.merge(scaled_df, df12, left_index=True, right_index=True)\n",
    "scaled_df = pd.merge(scaled_df, dfy, left_index=True, right_index=True)\n",
    "print(scaled_df)"
   ]
  },
  {
   "cell_type": "markdown",
   "id": "8afa4f78",
   "metadata": {},
   "source": [
    "# Step 4:"
   ]
  },
  {
   "cell_type": "code",
   "execution_count": 25,
   "id": "15cd575e",
   "metadata": {},
   "outputs": [
    {
     "data": {
      "text/html": [
       "<style type=\"text/css\">\n",
       "#T_a5a63_row8_col1, #T_a5a63_row12_col1 {\n",
       "  background-color: lightgreen;\n",
       "}\n",
       "</style>\n",
       "<table id=\"T_a5a63\">\n",
       "  <thead>\n",
       "    <tr>\n",
       "      <th class=\"blank level0\" >&nbsp;</th>\n",
       "      <th id=\"T_a5a63_level0_col0\" class=\"col_heading level0 col0\" >Description</th>\n",
       "      <th id=\"T_a5a63_level0_col1\" class=\"col_heading level0 col1\" >Value</th>\n",
       "    </tr>\n",
       "  </thead>\n",
       "  <tbody>\n",
       "    <tr>\n",
       "      <th id=\"T_a5a63_level0_row0\" class=\"row_heading level0 row0\" >0</th>\n",
       "      <td id=\"T_a5a63_row0_col0\" class=\"data row0 col0\" >Session id</td>\n",
       "      <td id=\"T_a5a63_row0_col1\" class=\"data row0 col1\" >42</td>\n",
       "    </tr>\n",
       "    <tr>\n",
       "      <th id=\"T_a5a63_level0_row1\" class=\"row_heading level0 row1\" >1</th>\n",
       "      <td id=\"T_a5a63_row1_col0\" class=\"data row1 col0\" >Target</td>\n",
       "      <td id=\"T_a5a63_row1_col1\" class=\"data row1 col1\" >stroke</td>\n",
       "    </tr>\n",
       "    <tr>\n",
       "      <th id=\"T_a5a63_level0_row2\" class=\"row_heading level0 row2\" >2</th>\n",
       "      <td id=\"T_a5a63_row2_col0\" class=\"data row2 col0\" >Target type</td>\n",
       "      <td id=\"T_a5a63_row2_col1\" class=\"data row2 col1\" >Binary</td>\n",
       "    </tr>\n",
       "    <tr>\n",
       "      <th id=\"T_a5a63_level0_row3\" class=\"row_heading level0 row3\" >3</th>\n",
       "      <td id=\"T_a5a63_row3_col0\" class=\"data row3 col0\" >Original data shape</td>\n",
       "      <td id=\"T_a5a63_row3_col1\" class=\"data row3 col1\" >(4715, 11)</td>\n",
       "    </tr>\n",
       "    <tr>\n",
       "      <th id=\"T_a5a63_level0_row4\" class=\"row_heading level0 row4\" >4</th>\n",
       "      <td id=\"T_a5a63_row4_col0\" class=\"data row4 col0\" >Transformed data shape</td>\n",
       "      <td id=\"T_a5a63_row4_col1\" class=\"data row4 col1\" >(7723, 11)</td>\n",
       "    </tr>\n",
       "    <tr>\n",
       "      <th id=\"T_a5a63_level0_row5\" class=\"row_heading level0 row5\" >5</th>\n",
       "      <td id=\"T_a5a63_row5_col0\" class=\"data row5 col0\" >Transformed train set shape</td>\n",
       "      <td id=\"T_a5a63_row5_col1\" class=\"data row5 col1\" >(6308, 11)</td>\n",
       "    </tr>\n",
       "    <tr>\n",
       "      <th id=\"T_a5a63_level0_row6\" class=\"row_heading level0 row6\" >6</th>\n",
       "      <td id=\"T_a5a63_row6_col0\" class=\"data row6 col0\" >Transformed test set shape</td>\n",
       "      <td id=\"T_a5a63_row6_col1\" class=\"data row6 col1\" >(1415, 11)</td>\n",
       "    </tr>\n",
       "    <tr>\n",
       "      <th id=\"T_a5a63_level0_row7\" class=\"row_heading level0 row7\" >7</th>\n",
       "      <td id=\"T_a5a63_row7_col0\" class=\"data row7 col0\" >Numeric features</td>\n",
       "      <td id=\"T_a5a63_row7_col1\" class=\"data row7 col1\" >10</td>\n",
       "    </tr>\n",
       "    <tr>\n",
       "      <th id=\"T_a5a63_level0_row8\" class=\"row_heading level0 row8\" >8</th>\n",
       "      <td id=\"T_a5a63_row8_col0\" class=\"data row8 col0\" >Preprocess</td>\n",
       "      <td id=\"T_a5a63_row8_col1\" class=\"data row8 col1\" >True</td>\n",
       "    </tr>\n",
       "    <tr>\n",
       "      <th id=\"T_a5a63_level0_row9\" class=\"row_heading level0 row9\" >9</th>\n",
       "      <td id=\"T_a5a63_row9_col0\" class=\"data row9 col0\" >Imputation type</td>\n",
       "      <td id=\"T_a5a63_row9_col1\" class=\"data row9 col1\" >simple</td>\n",
       "    </tr>\n",
       "    <tr>\n",
       "      <th id=\"T_a5a63_level0_row10\" class=\"row_heading level0 row10\" >10</th>\n",
       "      <td id=\"T_a5a63_row10_col0\" class=\"data row10 col0\" >Numeric imputation</td>\n",
       "      <td id=\"T_a5a63_row10_col1\" class=\"data row10 col1\" >mean</td>\n",
       "    </tr>\n",
       "    <tr>\n",
       "      <th id=\"T_a5a63_level0_row11\" class=\"row_heading level0 row11\" >11</th>\n",
       "      <td id=\"T_a5a63_row11_col0\" class=\"data row11 col0\" >Categorical imputation</td>\n",
       "      <td id=\"T_a5a63_row11_col1\" class=\"data row11 col1\" >mode</td>\n",
       "    </tr>\n",
       "    <tr>\n",
       "      <th id=\"T_a5a63_level0_row12\" class=\"row_heading level0 row12\" >12</th>\n",
       "      <td id=\"T_a5a63_row12_col0\" class=\"data row12 col0\" >Fix imbalance</td>\n",
       "      <td id=\"T_a5a63_row12_col1\" class=\"data row12 col1\" >True</td>\n",
       "    </tr>\n",
       "    <tr>\n",
       "      <th id=\"T_a5a63_level0_row13\" class=\"row_heading level0 row13\" >13</th>\n",
       "      <td id=\"T_a5a63_row13_col0\" class=\"data row13 col0\" >Fix imbalance method</td>\n",
       "      <td id=\"T_a5a63_row13_col1\" class=\"data row13 col1\" >SMOTE</td>\n",
       "    </tr>\n",
       "    <tr>\n",
       "      <th id=\"T_a5a63_level0_row14\" class=\"row_heading level0 row14\" >14</th>\n",
       "      <td id=\"T_a5a63_row14_col0\" class=\"data row14 col0\" >Fold Generator</td>\n",
       "      <td id=\"T_a5a63_row14_col1\" class=\"data row14 col1\" >StratifiedKFold</td>\n",
       "    </tr>\n",
       "    <tr>\n",
       "      <th id=\"T_a5a63_level0_row15\" class=\"row_heading level0 row15\" >15</th>\n",
       "      <td id=\"T_a5a63_row15_col0\" class=\"data row15 col0\" >Fold Number</td>\n",
       "      <td id=\"T_a5a63_row15_col1\" class=\"data row15 col1\" >10</td>\n",
       "    </tr>\n",
       "    <tr>\n",
       "      <th id=\"T_a5a63_level0_row16\" class=\"row_heading level0 row16\" >16</th>\n",
       "      <td id=\"T_a5a63_row16_col0\" class=\"data row16 col0\" >CPU Jobs</td>\n",
       "      <td id=\"T_a5a63_row16_col1\" class=\"data row16 col1\" >-1</td>\n",
       "    </tr>\n",
       "    <tr>\n",
       "      <th id=\"T_a5a63_level0_row17\" class=\"row_heading level0 row17\" >17</th>\n",
       "      <td id=\"T_a5a63_row17_col0\" class=\"data row17 col0\" >Use GPU</td>\n",
       "      <td id=\"T_a5a63_row17_col1\" class=\"data row17 col1\" >False</td>\n",
       "    </tr>\n",
       "    <tr>\n",
       "      <th id=\"T_a5a63_level0_row18\" class=\"row_heading level0 row18\" >18</th>\n",
       "      <td id=\"T_a5a63_row18_col0\" class=\"data row18 col0\" >Log Experiment</td>\n",
       "      <td id=\"T_a5a63_row18_col1\" class=\"data row18 col1\" >False</td>\n",
       "    </tr>\n",
       "    <tr>\n",
       "      <th id=\"T_a5a63_level0_row19\" class=\"row_heading level0 row19\" >19</th>\n",
       "      <td id=\"T_a5a63_row19_col0\" class=\"data row19 col0\" >Experiment Name</td>\n",
       "      <td id=\"T_a5a63_row19_col1\" class=\"data row19 col1\" >clf-default-name</td>\n",
       "    </tr>\n",
       "    <tr>\n",
       "      <th id=\"T_a5a63_level0_row20\" class=\"row_heading level0 row20\" >20</th>\n",
       "      <td id=\"T_a5a63_row20_col0\" class=\"data row20 col0\" >USI</td>\n",
       "      <td id=\"T_a5a63_row20_col1\" class=\"data row20 col1\" >8637</td>\n",
       "    </tr>\n",
       "  </tbody>\n",
       "</table>\n"
      ],
      "text/plain": [
       "<pandas.io.formats.style.Styler at 0x7f8226a7bfd0>"
      ]
     },
     "metadata": {},
     "output_type": "display_data"
    }
   ],
   "source": [
    "#setup Pycaret\n",
    "clf = setup(data = scaled_df, target = 'stroke', fix_imbalance = True, session_id = 42)"
   ]
  },
  {
   "cell_type": "code",
   "execution_count": 26,
   "id": "d9c8fd1c",
   "metadata": {},
   "outputs": [
    {
     "data": {
      "text/html": [],
      "text/plain": [
       "<IPython.core.display.HTML object>"
      ]
     },
     "metadata": {},
     "output_type": "display_data"
    },
    {
     "data": {
      "text/html": [
       "<style type=\"text/css\">\n",
       "#T_0c08d th {\n",
       "  text-align: left;\n",
       "}\n",
       "#T_0c08d_row0_col0, #T_0c08d_row0_col2, #T_0c08d_row0_col3, #T_0c08d_row0_col4, #T_0c08d_row0_col5, #T_0c08d_row0_col6, #T_0c08d_row0_col7, #T_0c08d_row1_col0, #T_0c08d_row1_col1, #T_0c08d_row1_col2, #T_0c08d_row1_col3, #T_0c08d_row1_col5, #T_0c08d_row1_col6, #T_0c08d_row1_col7, #T_0c08d_row2_col0, #T_0c08d_row2_col1, #T_0c08d_row2_col2, #T_0c08d_row2_col3, #T_0c08d_row2_col4, #T_0c08d_row2_col5, #T_0c08d_row2_col6, #T_0c08d_row2_col7, #T_0c08d_row3_col0, #T_0c08d_row3_col1, #T_0c08d_row3_col2, #T_0c08d_row3_col3, #T_0c08d_row3_col4, #T_0c08d_row3_col5, #T_0c08d_row3_col6, #T_0c08d_row3_col7, #T_0c08d_row4_col0, #T_0c08d_row4_col1, #T_0c08d_row4_col2, #T_0c08d_row4_col3, #T_0c08d_row4_col4, #T_0c08d_row4_col7, #T_0c08d_row5_col0, #T_0c08d_row5_col1, #T_0c08d_row5_col2, #T_0c08d_row5_col3, #T_0c08d_row5_col4, #T_0c08d_row5_col5, #T_0c08d_row5_col6, #T_0c08d_row5_col7, #T_0c08d_row6_col0, #T_0c08d_row6_col1, #T_0c08d_row6_col2, #T_0c08d_row6_col3, #T_0c08d_row6_col4, #T_0c08d_row6_col5, #T_0c08d_row6_col6, #T_0c08d_row6_col7, #T_0c08d_row7_col0, #T_0c08d_row7_col1, #T_0c08d_row7_col2, #T_0c08d_row7_col3, #T_0c08d_row7_col4, #T_0c08d_row7_col5, #T_0c08d_row7_col6, #T_0c08d_row7_col7, #T_0c08d_row8_col0, #T_0c08d_row8_col1, #T_0c08d_row8_col2, #T_0c08d_row8_col3, #T_0c08d_row8_col4, #T_0c08d_row8_col5, #T_0c08d_row8_col6, #T_0c08d_row8_col7, #T_0c08d_row9_col0, #T_0c08d_row9_col1, #T_0c08d_row9_col2, #T_0c08d_row9_col3, #T_0c08d_row9_col4, #T_0c08d_row9_col5, #T_0c08d_row9_col6, #T_0c08d_row9_col7, #T_0c08d_row10_col0, #T_0c08d_row10_col1, #T_0c08d_row10_col2, #T_0c08d_row10_col3, #T_0c08d_row10_col4, #T_0c08d_row10_col5, #T_0c08d_row10_col6, #T_0c08d_row10_col7, #T_0c08d_row11_col0, #T_0c08d_row11_col1, #T_0c08d_row11_col2, #T_0c08d_row11_col3, #T_0c08d_row11_col4, #T_0c08d_row11_col5, #T_0c08d_row11_col6, #T_0c08d_row11_col7, #T_0c08d_row12_col0, #T_0c08d_row12_col1, #T_0c08d_row12_col4, #T_0c08d_row12_col5, #T_0c08d_row12_col6, #T_0c08d_row13_col0, #T_0c08d_row13_col1, #T_0c08d_row13_col2, #T_0c08d_row13_col3, #T_0c08d_row13_col4, #T_0c08d_row13_col5, #T_0c08d_row13_col6, #T_0c08d_row13_col7 {\n",
       "  text-align: left;\n",
       "}\n",
       "#T_0c08d_row0_col1, #T_0c08d_row1_col4, #T_0c08d_row4_col5, #T_0c08d_row4_col6, #T_0c08d_row12_col2, #T_0c08d_row12_col3, #T_0c08d_row12_col7 {\n",
       "  text-align: left;\n",
       "  background-color: yellow;\n",
       "}\n",
       "#T_0c08d_row0_col8, #T_0c08d_row1_col8, #T_0c08d_row2_col8, #T_0c08d_row3_col8, #T_0c08d_row4_col8, #T_0c08d_row5_col8, #T_0c08d_row6_col8, #T_0c08d_row7_col8, #T_0c08d_row8_col8, #T_0c08d_row9_col8, #T_0c08d_row10_col8, #T_0c08d_row11_col8, #T_0c08d_row12_col8 {\n",
       "  text-align: left;\n",
       "  background-color: lightgrey;\n",
       "}\n",
       "#T_0c08d_row13_col8 {\n",
       "  text-align: left;\n",
       "  background-color: yellow;\n",
       "  background-color: lightgrey;\n",
       "}\n",
       "</style>\n",
       "<table id=\"T_0c08d\">\n",
       "  <thead>\n",
       "    <tr>\n",
       "      <th class=\"blank level0\" >&nbsp;</th>\n",
       "      <th id=\"T_0c08d_level0_col0\" class=\"col_heading level0 col0\" >Model</th>\n",
       "      <th id=\"T_0c08d_level0_col1\" class=\"col_heading level0 col1\" >Accuracy</th>\n",
       "      <th id=\"T_0c08d_level0_col2\" class=\"col_heading level0 col2\" >AUC</th>\n",
       "      <th id=\"T_0c08d_level0_col3\" class=\"col_heading level0 col3\" >Recall</th>\n",
       "      <th id=\"T_0c08d_level0_col4\" class=\"col_heading level0 col4\" >Prec.</th>\n",
       "      <th id=\"T_0c08d_level0_col5\" class=\"col_heading level0 col5\" >F1</th>\n",
       "      <th id=\"T_0c08d_level0_col6\" class=\"col_heading level0 col6\" >Kappa</th>\n",
       "      <th id=\"T_0c08d_level0_col7\" class=\"col_heading level0 col7\" >MCC</th>\n",
       "      <th id=\"T_0c08d_level0_col8\" class=\"col_heading level0 col8\" >TT (Sec)</th>\n",
       "    </tr>\n",
       "  </thead>\n",
       "  <tbody>\n",
       "    <tr>\n",
       "      <th id=\"T_0c08d_level0_row0\" class=\"row_heading level0 row0\" >dummy</th>\n",
       "      <td id=\"T_0c08d_row0_col0\" class=\"data row0 col0\" >Dummy Classifier</td>\n",
       "      <td id=\"T_0c08d_row0_col1\" class=\"data row0 col1\" >0.9558</td>\n",
       "      <td id=\"T_0c08d_row0_col2\" class=\"data row0 col2\" >0.5000</td>\n",
       "      <td id=\"T_0c08d_row0_col3\" class=\"data row0 col3\" >0.0000</td>\n",
       "      <td id=\"T_0c08d_row0_col4\" class=\"data row0 col4\" >0.0000</td>\n",
       "      <td id=\"T_0c08d_row0_col5\" class=\"data row0 col5\" >0.0000</td>\n",
       "      <td id=\"T_0c08d_row0_col6\" class=\"data row0 col6\" >0.0000</td>\n",
       "      <td id=\"T_0c08d_row0_col7\" class=\"data row0 col7\" >0.0000</td>\n",
       "      <td id=\"T_0c08d_row0_col8\" class=\"data row0 col8\" >0.1390</td>\n",
       "    </tr>\n",
       "    <tr>\n",
       "      <th id=\"T_0c08d_level0_row1\" class=\"row_heading level0 row1\" >lightgbm</th>\n",
       "      <td id=\"T_0c08d_row1_col0\" class=\"data row1 col0\" >Light Gradient Boosting Machine</td>\n",
       "      <td id=\"T_0c08d_row1_col1\" class=\"data row1 col1\" >0.9445</td>\n",
       "      <td id=\"T_0c08d_row1_col2\" class=\"data row1 col2\" >0.7813</td>\n",
       "      <td id=\"T_0c08d_row1_col3\" class=\"data row1 col3\" >0.1643</td>\n",
       "      <td id=\"T_0c08d_row1_col4\" class=\"data row1 col4\" >0.3022</td>\n",
       "      <td id=\"T_0c08d_row1_col5\" class=\"data row1 col5\" >0.2030</td>\n",
       "      <td id=\"T_0c08d_row1_col6\" class=\"data row1 col6\" >0.1775</td>\n",
       "      <td id=\"T_0c08d_row1_col7\" class=\"data row1 col7\" >0.1905</td>\n",
       "      <td id=\"T_0c08d_row1_col8\" class=\"data row1 col8\" >0.2400</td>\n",
       "    </tr>\n",
       "    <tr>\n",
       "      <th id=\"T_0c08d_level0_row2\" class=\"row_heading level0 row2\" >rf</th>\n",
       "      <td id=\"T_0c08d_row2_col0\" class=\"data row2 col0\" >Random Forest Classifier</td>\n",
       "      <td id=\"T_0c08d_row2_col1\" class=\"data row2 col1\" >0.9424</td>\n",
       "      <td id=\"T_0c08d_row2_col2\" class=\"data row2 col2\" >0.7860</td>\n",
       "      <td id=\"T_0c08d_row2_col3\" class=\"data row2 col3\" >0.1643</td>\n",
       "      <td id=\"T_0c08d_row2_col4\" class=\"data row2 col4\" >0.2587</td>\n",
       "      <td id=\"T_0c08d_row2_col5\" class=\"data row2 col5\" >0.1991</td>\n",
       "      <td id=\"T_0c08d_row2_col6\" class=\"data row2 col6\" >0.1713</td>\n",
       "      <td id=\"T_0c08d_row2_col7\" class=\"data row2 col7\" >0.1767</td>\n",
       "      <td id=\"T_0c08d_row2_col8\" class=\"data row2 col8\" >0.2440</td>\n",
       "    </tr>\n",
       "    <tr>\n",
       "      <th id=\"T_0c08d_level0_row3\" class=\"row_heading level0 row3\" >et</th>\n",
       "      <td id=\"T_0c08d_row3_col0\" class=\"data row3 col0\" >Extra Trees Classifier</td>\n",
       "      <td id=\"T_0c08d_row3_col1\" class=\"data row3 col1\" >0.9421</td>\n",
       "      <td id=\"T_0c08d_row3_col2\" class=\"data row3 col2\" >0.7867</td>\n",
       "      <td id=\"T_0c08d_row3_col3\" class=\"data row3 col3\" >0.1300</td>\n",
       "      <td id=\"T_0c08d_row3_col4\" class=\"data row3 col4\" >0.2329</td>\n",
       "      <td id=\"T_0c08d_row3_col5\" class=\"data row3 col5\" >0.1644</td>\n",
       "      <td id=\"T_0c08d_row3_col6\" class=\"data row3 col6\" >0.1373</td>\n",
       "      <td id=\"T_0c08d_row3_col7\" class=\"data row3 col7\" >0.1445</td>\n",
       "      <td id=\"T_0c08d_row3_col8\" class=\"data row3 col8\" >0.2240</td>\n",
       "    </tr>\n",
       "    <tr>\n",
       "      <th id=\"T_0c08d_level0_row4\" class=\"row_heading level0 row4\" >gbc</th>\n",
       "      <td id=\"T_0c08d_row4_col0\" class=\"data row4 col0\" >Gradient Boosting Classifier</td>\n",
       "      <td id=\"T_0c08d_row4_col1\" class=\"data row4 col1\" >0.9255</td>\n",
       "      <td id=\"T_0c08d_row4_col2\" class=\"data row4 col2\" >0.7955</td>\n",
       "      <td id=\"T_0c08d_row4_col3\" class=\"data row4 col3\" >0.2962</td>\n",
       "      <td id=\"T_0c08d_row4_col4\" class=\"data row4 col4\" >0.2507</td>\n",
       "      <td id=\"T_0c08d_row4_col5\" class=\"data row4 col5\" >0.2630</td>\n",
       "      <td id=\"T_0c08d_row4_col6\" class=\"data row4 col6\" >0.2253</td>\n",
       "      <td id=\"T_0c08d_row4_col7\" class=\"data row4 col7\" >0.2301</td>\n",
       "      <td id=\"T_0c08d_row4_col8\" class=\"data row4 col8\" >0.2500</td>\n",
       "    </tr>\n",
       "    <tr>\n",
       "      <th id=\"T_0c08d_level0_row5\" class=\"row_heading level0 row5\" >dt</th>\n",
       "      <td id=\"T_0c08d_row5_col0\" class=\"data row5 col0\" >Decision Tree Classifier</td>\n",
       "      <td id=\"T_0c08d_row5_col1\" class=\"data row5 col1\" >0.9045</td>\n",
       "      <td id=\"T_0c08d_row5_col2\" class=\"data row5 col2\" >0.5647</td>\n",
       "      <td id=\"T_0c08d_row5_col3\" class=\"data row5 col3\" >0.1919</td>\n",
       "      <td id=\"T_0c08d_row5_col4\" class=\"data row5 col4\" >0.1234</td>\n",
       "      <td id=\"T_0c08d_row5_col5\" class=\"data row5 col5\" >0.1492</td>\n",
       "      <td id=\"T_0c08d_row5_col6\" class=\"data row5 col6\" >0.1014</td>\n",
       "      <td id=\"T_0c08d_row5_col7\" class=\"data row5 col7\" >0.1046</td>\n",
       "      <td id=\"T_0c08d_row5_col8\" class=\"data row5 col8\" >0.1350</td>\n",
       "    </tr>\n",
       "    <tr>\n",
       "      <th id=\"T_0c08d_level0_row6\" class=\"row_heading level0 row6\" >ada</th>\n",
       "      <td id=\"T_0c08d_row6_col0\" class=\"data row6 col0\" >Ada Boost Classifier</td>\n",
       "      <td id=\"T_0c08d_row6_col1\" class=\"data row6 col1\" >0.8897</td>\n",
       "      <td id=\"T_0c08d_row6_col2\" class=\"data row6 col2\" >0.8010</td>\n",
       "      <td id=\"T_0c08d_row6_col3\" class=\"data row6 col3\" >0.4062</td>\n",
       "      <td id=\"T_0c08d_row6_col4\" class=\"data row6 col4\" >0.1764</td>\n",
       "      <td id=\"T_0c08d_row6_col5\" class=\"data row6 col5\" >0.2447</td>\n",
       "      <td id=\"T_0c08d_row6_col6\" class=\"data row6 col6\" >0.1953</td>\n",
       "      <td id=\"T_0c08d_row6_col7\" class=\"data row6 col7\" >0.2159</td>\n",
       "      <td id=\"T_0c08d_row6_col8\" class=\"data row6 col8\" >0.1790</td>\n",
       "    </tr>\n",
       "    <tr>\n",
       "      <th id=\"T_0c08d_level0_row7\" class=\"row_heading level0 row7\" >knn</th>\n",
       "      <td id=\"T_0c08d_row7_col0\" class=\"data row7 col0\" >K Neighbors Classifier</td>\n",
       "      <td id=\"T_0c08d_row7_col1\" class=\"data row7 col1\" >0.8439</td>\n",
       "      <td id=\"T_0c08d_row7_col2\" class=\"data row7 col2\" >0.6809</td>\n",
       "      <td id=\"T_0c08d_row7_col3\" class=\"data row7 col3\" >0.3824</td>\n",
       "      <td id=\"T_0c08d_row7_col4\" class=\"data row7 col4\" >0.1189</td>\n",
       "      <td id=\"T_0c08d_row7_col5\" class=\"data row7 col5\" >0.1811</td>\n",
       "      <td id=\"T_0c08d_row7_col6\" class=\"data row7 col6\" >0.1216</td>\n",
       "      <td id=\"T_0c08d_row7_col7\" class=\"data row7 col7\" >0.1466</td>\n",
       "      <td id=\"T_0c08d_row7_col8\" class=\"data row7 col8\" >0.1370</td>\n",
       "    </tr>\n",
       "    <tr>\n",
       "      <th id=\"T_0c08d_level0_row8\" class=\"row_heading level0 row8\" >lr</th>\n",
       "      <td id=\"T_0c08d_row8_col0\" class=\"data row8 col0\" >Logistic Regression</td>\n",
       "      <td id=\"T_0c08d_row8_col1\" class=\"data row8 col1\" >0.7697</td>\n",
       "      <td id=\"T_0c08d_row8_col2\" class=\"data row8 col2\" >0.8399</td>\n",
       "      <td id=\"T_0c08d_row8_col3\" class=\"data row8 col3\" >0.7267</td>\n",
       "      <td id=\"T_0c08d_row8_col4\" class=\"data row8 col4\" >0.1287</td>\n",
       "      <td id=\"T_0c08d_row8_col5\" class=\"data row8 col5\" >0.2185</td>\n",
       "      <td id=\"T_0c08d_row8_col6\" class=\"data row8 col6\" >0.1550</td>\n",
       "      <td id=\"T_0c08d_row8_col7\" class=\"data row8 col7\" >0.2368</td>\n",
       "      <td id=\"T_0c08d_row8_col8\" class=\"data row8 col8\" >0.4700</td>\n",
       "    </tr>\n",
       "    <tr>\n",
       "      <th id=\"T_0c08d_level0_row9\" class=\"row_heading level0 row9\" >nb</th>\n",
       "      <td id=\"T_0c08d_row9_col0\" class=\"data row9 col0\" >Naive Bayes</td>\n",
       "      <td id=\"T_0c08d_row9_col1\" class=\"data row9 col1\" >0.7636</td>\n",
       "      <td id=\"T_0c08d_row9_col2\" class=\"data row9 col2\" >0.8204</td>\n",
       "      <td id=\"T_0c08d_row9_col3\" class=\"data row9 col3\" >0.7462</td>\n",
       "      <td id=\"T_0c08d_row9_col4\" class=\"data row9 col4\" >0.1287</td>\n",
       "      <td id=\"T_0c08d_row9_col5\" class=\"data row9 col5\" >0.2194</td>\n",
       "      <td id=\"T_0c08d_row9_col6\" class=\"data row9 col6\" >0.1556</td>\n",
       "      <td id=\"T_0c08d_row9_col7\" class=\"data row9 col7\" >0.2407</td>\n",
       "      <td id=\"T_0c08d_row9_col8\" class=\"data row9 col8\" >0.1320</td>\n",
       "    </tr>\n",
       "    <tr>\n",
       "      <th id=\"T_0c08d_level0_row10\" class=\"row_heading level0 row10\" >qda</th>\n",
       "      <td id=\"T_0c08d_row10_col0\" class=\"data row10 col0\" >Quadratic Discriminant Analysis</td>\n",
       "      <td id=\"T_0c08d_row10_col1\" class=\"data row10 col1\" >0.7630</td>\n",
       "      <td id=\"T_0c08d_row10_col2\" class=\"data row10 col2\" >0.8092</td>\n",
       "      <td id=\"T_0c08d_row10_col3\" class=\"data row10 col3\" >0.7038</td>\n",
       "      <td id=\"T_0c08d_row10_col4\" class=\"data row10 col4\" >0.1226</td>\n",
       "      <td id=\"T_0c08d_row10_col5\" class=\"data row10 col5\" >0.2086</td>\n",
       "      <td id=\"T_0c08d_row10_col6\" class=\"data row10 col6\" >0.1442</td>\n",
       "      <td id=\"T_0c08d_row10_col7\" class=\"data row10 col7\" >0.2221</td>\n",
       "      <td id=\"T_0c08d_row10_col8\" class=\"data row10 col8\" >0.1390</td>\n",
       "    </tr>\n",
       "    <tr>\n",
       "      <th id=\"T_0c08d_level0_row11\" class=\"row_heading level0 row11\" >svm</th>\n",
       "      <td id=\"T_0c08d_row11_col0\" class=\"data row11 col0\" >SVM - Linear Kernel</td>\n",
       "      <td id=\"T_0c08d_row11_col1\" class=\"data row11 col1\" >0.7594</td>\n",
       "      <td id=\"T_0c08d_row11_col2\" class=\"data row11 col2\" >0.0000</td>\n",
       "      <td id=\"T_0c08d_row11_col3\" class=\"data row11 col3\" >0.7405</td>\n",
       "      <td id=\"T_0c08d_row11_col4\" class=\"data row11 col4\" >0.1292</td>\n",
       "      <td id=\"T_0c08d_row11_col5\" class=\"data row11 col5\" >0.2189</td>\n",
       "      <td id=\"T_0c08d_row11_col6\" class=\"data row11 col6\" >0.1552</td>\n",
       "      <td id=\"T_0c08d_row11_col7\" class=\"data row11 col7\" >0.2383</td>\n",
       "      <td id=\"T_0c08d_row11_col8\" class=\"data row11 col8\" >0.1340</td>\n",
       "    </tr>\n",
       "    <tr>\n",
       "      <th id=\"T_0c08d_level0_row12\" class=\"row_heading level0 row12\" >lda</th>\n",
       "      <td id=\"T_0c08d_row12_col0\" class=\"data row12 col0\" >Linear Discriminant Analysis</td>\n",
       "      <td id=\"T_0c08d_row12_col1\" class=\"data row12 col1\" >0.7536</td>\n",
       "      <td id=\"T_0c08d_row12_col2\" class=\"data row12 col2\" >0.8407</td>\n",
       "      <td id=\"T_0c08d_row12_col3\" class=\"data row12 col3\" >0.7667</td>\n",
       "      <td id=\"T_0c08d_row12_col4\" class=\"data row12 col4\" >0.1261</td>\n",
       "      <td id=\"T_0c08d_row12_col5\" class=\"data row12 col5\" >0.2165</td>\n",
       "      <td id=\"T_0c08d_row12_col6\" class=\"data row12 col6\" >0.1521</td>\n",
       "      <td id=\"T_0c08d_row12_col7\" class=\"data row12 col7\" >0.2412</td>\n",
       "      <td id=\"T_0c08d_row12_col8\" class=\"data row12 col8\" >0.1360</td>\n",
       "    </tr>\n",
       "    <tr>\n",
       "      <th id=\"T_0c08d_level0_row13\" class=\"row_heading level0 row13\" >ridge</th>\n",
       "      <td id=\"T_0c08d_row13_col0\" class=\"data row13 col0\" >Ridge Classifier</td>\n",
       "      <td id=\"T_0c08d_row13_col1\" class=\"data row13 col1\" >0.7509</td>\n",
       "      <td id=\"T_0c08d_row13_col2\" class=\"data row13 col2\" >0.0000</td>\n",
       "      <td id=\"T_0c08d_row13_col3\" class=\"data row13 col3\" >0.7600</td>\n",
       "      <td id=\"T_0c08d_row13_col4\" class=\"data row13 col4\" >0.1239</td>\n",
       "      <td id=\"T_0c08d_row13_col5\" class=\"data row13 col5\" >0.2130</td>\n",
       "      <td id=\"T_0c08d_row13_col6\" class=\"data row13 col6\" >0.1482</td>\n",
       "      <td id=\"T_0c08d_row13_col7\" class=\"data row13 col7\" >0.2362</td>\n",
       "      <td id=\"T_0c08d_row13_col8\" class=\"data row13 col8\" >0.1310</td>\n",
       "    </tr>\n",
       "  </tbody>\n",
       "</table>\n"
      ],
      "text/plain": [
       "<pandas.io.formats.style.Styler at 0x7f822535c580>"
      ]
     },
     "metadata": {},
     "output_type": "display_data"
    },
    {
     "data": {
      "text/html": [],
      "text/plain": [
       "<IPython.core.display.HTML object>"
      ]
     },
     "metadata": {},
     "output_type": "display_data"
    }
   ],
   "source": [
    "# Best model\n",
    "best_model = compare_models()"
   ]
  },
  {
   "cell_type": "markdown",
   "id": "07374932",
   "metadata": {},
   "source": [
    "Best model by accuracy is Dummy Clasifier, but by AUC is Linear Discriminant Analysis."
   ]
  },
  {
   "cell_type": "markdown",
   "id": "b7b656c7",
   "metadata": {},
   "source": [
    "# Step 5: Comparing models"
   ]
  },
  {
   "cell_type": "code",
   "execution_count": 27,
   "id": "07144545",
   "metadata": {},
   "outputs": [],
   "source": [
    "# Separate the data into labels and features\n",
    "# Separate the y variable, the labels\n",
    "y = scaled_df['stroke']\n",
    "\n",
    "# Separate the X variable, the features\n",
    "X = scaled_df.drop(columns='stroke')"
   ]
  },
  {
   "cell_type": "code",
   "execution_count": 28,
   "id": "1512bf29",
   "metadata": {},
   "outputs": [
    {
     "data": {
      "text/plain": [
       "0    1\n",
       "2    1\n",
       "3    1\n",
       "4    1\n",
       "5    1\n",
       "Name: stroke, dtype: int64"
      ]
     },
     "execution_count": 28,
     "metadata": {},
     "output_type": "execute_result"
    }
   ],
   "source": [
    "# Review the y variable Series\n",
    "y[:5]"
   ]
  },
  {
   "cell_type": "code",
   "execution_count": 29,
   "id": "160f2644",
   "metadata": {},
   "outputs": [
    {
     "data": {
      "text/html": [
       "<div>\n",
       "<style scoped>\n",
       "    .dataframe tbody tr th:only-of-type {\n",
       "        vertical-align: middle;\n",
       "    }\n",
       "\n",
       "    .dataframe tbody tr th {\n",
       "        vertical-align: top;\n",
       "    }\n",
       "\n",
       "    .dataframe thead th {\n",
       "        text-align: right;\n",
       "    }\n",
       "</style>\n",
       "<table border=\"1\" class=\"dataframe\">\n",
       "  <thead>\n",
       "    <tr style=\"text-align: right;\">\n",
       "      <th></th>\n",
       "      <th>age</th>\n",
       "      <th>avg_glucose_level</th>\n",
       "      <th>bmi</th>\n",
       "      <th>gender</th>\n",
       "      <th>hypertension</th>\n",
       "      <th>heart_disease</th>\n",
       "      <th>ever_married</th>\n",
       "      <th>work_type</th>\n",
       "      <th>Residence_type</th>\n",
       "      <th>smoking_status</th>\n",
       "    </tr>\n",
       "  </thead>\n",
       "  <tbody>\n",
       "    <tr>\n",
       "      <th>0</th>\n",
       "      <td>1.069938</td>\n",
       "      <td>2.777797</td>\n",
       "      <td>0.981145</td>\n",
       "      <td>1</td>\n",
       "      <td>0</td>\n",
       "      <td>1</td>\n",
       "      <td>1</td>\n",
       "      <td>0</td>\n",
       "      <td>1</td>\n",
       "      <td>2</td>\n",
       "    </tr>\n",
       "    <tr>\n",
       "      <th>2</th>\n",
       "      <td>0.271847</td>\n",
       "      <td>1.484266</td>\n",
       "      <td>0.701016</td>\n",
       "      <td>1</td>\n",
       "      <td>0</td>\n",
       "      <td>1</td>\n",
       "      <td>1</td>\n",
       "      <td>0</td>\n",
       "      <td>0</td>\n",
       "      <td>0</td>\n",
       "    </tr>\n",
       "    <tr>\n",
       "      <th>3</th>\n",
       "      <td>1.601998</td>\n",
       "      <td>1.549325</td>\n",
       "      <td>-0.623231</td>\n",
       "      <td>0</td>\n",
       "      <td>0</td>\n",
       "      <td>0</td>\n",
       "      <td>1</td>\n",
       "      <td>0</td>\n",
       "      <td>1</td>\n",
       "      <td>3</td>\n",
       "    </tr>\n",
       "    <tr>\n",
       "      <th>4</th>\n",
       "      <td>1.690675</td>\n",
       "      <td>1.821493</td>\n",
       "      <td>0.013426</td>\n",
       "      <td>0</td>\n",
       "      <td>1</td>\n",
       "      <td>0</td>\n",
       "      <td>1</td>\n",
       "      <td>1</td>\n",
       "      <td>0</td>\n",
       "      <td>0</td>\n",
       "    </tr>\n",
       "    <tr>\n",
       "      <th>5</th>\n",
       "      <td>1.380306</td>\n",
       "      <td>-0.792584</td>\n",
       "      <td>-0.190304</td>\n",
       "      <td>1</td>\n",
       "      <td>0</td>\n",
       "      <td>0</td>\n",
       "      <td>1</td>\n",
       "      <td>0</td>\n",
       "      <td>1</td>\n",
       "      <td>2</td>\n",
       "    </tr>\n",
       "  </tbody>\n",
       "</table>\n",
       "</div>"
      ],
      "text/plain": [
       "        age  avg_glucose_level       bmi  gender  hypertension  heart_disease  \\\n",
       "0  1.069938           2.777797  0.981145       1             0              1   \n",
       "2  0.271847           1.484266  0.701016       1             0              1   \n",
       "3  1.601998           1.549325 -0.623231       0             0              0   \n",
       "4  1.690675           1.821493  0.013426       0             1              0   \n",
       "5  1.380306          -0.792584 -0.190304       1             0              0   \n",
       "\n",
       "   ever_married  work_type  Residence_type  smoking_status  \n",
       "0             1          0               1               2  \n",
       "2             1          0               0               0  \n",
       "3             1          0               1               3  \n",
       "4             1          1               0               0  \n",
       "5             1          0               1               2  "
      ]
     },
     "execution_count": 29,
     "metadata": {},
     "output_type": "execute_result"
    }
   ],
   "source": [
    "# Review the X variable DataFrame\n",
    "X.head()"
   ]
  },
  {
   "cell_type": "code",
   "execution_count": 30,
   "id": "568f05fe",
   "metadata": {},
   "outputs": [],
   "source": [
    "# Import the train_test_learn module\n",
    "from sklearn.model_selection import train_test_split\n",
    "\n",
    "# Split the data using train_test_split\n",
    "# Assign a random_state of 1 to the function\n",
    "X_train, X_test, y_train, y_test = train_test_split(X, y, random_state=42)"
   ]
  },
  {
   "cell_type": "markdown",
   "id": "6a5d8eeb",
   "metadata": {},
   "source": [
    "## Model 1: Dummy Classifier"
   ]
  },
  {
   "cell_type": "code",
   "execution_count": 31,
   "id": "ea8a0324",
   "metadata": {},
   "outputs": [
    {
     "data": {
      "text/html": [
       "<style>#sk-container-id-1 {color: black;background-color: white;}#sk-container-id-1 pre{padding: 0;}#sk-container-id-1 div.sk-toggleable {background-color: white;}#sk-container-id-1 label.sk-toggleable__label {cursor: pointer;display: block;width: 100%;margin-bottom: 0;padding: 0.3em;box-sizing: border-box;text-align: center;}#sk-container-id-1 label.sk-toggleable__label-arrow:before {content: \"▸\";float: left;margin-right: 0.25em;color: #696969;}#sk-container-id-1 label.sk-toggleable__label-arrow:hover:before {color: black;}#sk-container-id-1 div.sk-estimator:hover label.sk-toggleable__label-arrow:before {color: black;}#sk-container-id-1 div.sk-toggleable__content {max-height: 0;max-width: 0;overflow: hidden;text-align: left;background-color: #f0f8ff;}#sk-container-id-1 div.sk-toggleable__content pre {margin: 0.2em;color: black;border-radius: 0.25em;background-color: #f0f8ff;}#sk-container-id-1 input.sk-toggleable__control:checked~div.sk-toggleable__content {max-height: 200px;max-width: 100%;overflow: auto;}#sk-container-id-1 input.sk-toggleable__control:checked~label.sk-toggleable__label-arrow:before {content: \"▾\";}#sk-container-id-1 div.sk-estimator input.sk-toggleable__control:checked~label.sk-toggleable__label {background-color: #d4ebff;}#sk-container-id-1 div.sk-label input.sk-toggleable__control:checked~label.sk-toggleable__label {background-color: #d4ebff;}#sk-container-id-1 input.sk-hidden--visually {border: 0;clip: rect(1px 1px 1px 1px);clip: rect(1px, 1px, 1px, 1px);height: 1px;margin: -1px;overflow: hidden;padding: 0;position: absolute;width: 1px;}#sk-container-id-1 div.sk-estimator {font-family: monospace;background-color: #f0f8ff;border: 1px dotted black;border-radius: 0.25em;box-sizing: border-box;margin-bottom: 0.5em;}#sk-container-id-1 div.sk-estimator:hover {background-color: #d4ebff;}#sk-container-id-1 div.sk-parallel-item::after {content: \"\";width: 100%;border-bottom: 1px solid gray;flex-grow: 1;}#sk-container-id-1 div.sk-label:hover label.sk-toggleable__label {background-color: #d4ebff;}#sk-container-id-1 div.sk-serial::before {content: \"\";position: absolute;border-left: 1px solid gray;box-sizing: border-box;top: 0;bottom: 0;left: 50%;z-index: 0;}#sk-container-id-1 div.sk-serial {display: flex;flex-direction: column;align-items: center;background-color: white;padding-right: 0.2em;padding-left: 0.2em;position: relative;}#sk-container-id-1 div.sk-item {position: relative;z-index: 1;}#sk-container-id-1 div.sk-parallel {display: flex;align-items: stretch;justify-content: center;background-color: white;position: relative;}#sk-container-id-1 div.sk-item::before, #sk-container-id-1 div.sk-parallel-item::before {content: \"\";position: absolute;border-left: 1px solid gray;box-sizing: border-box;top: 0;bottom: 0;left: 50%;z-index: -1;}#sk-container-id-1 div.sk-parallel-item {display: flex;flex-direction: column;z-index: 1;position: relative;background-color: white;}#sk-container-id-1 div.sk-parallel-item:first-child::after {align-self: flex-end;width: 50%;}#sk-container-id-1 div.sk-parallel-item:last-child::after {align-self: flex-start;width: 50%;}#sk-container-id-1 div.sk-parallel-item:only-child::after {width: 0;}#sk-container-id-1 div.sk-dashed-wrapped {border: 1px dashed gray;margin: 0 0.4em 0.5em 0.4em;box-sizing: border-box;padding-bottom: 0.4em;background-color: white;}#sk-container-id-1 div.sk-label label {font-family: monospace;font-weight: bold;display: inline-block;line-height: 1.2em;}#sk-container-id-1 div.sk-label-container {text-align: center;}#sk-container-id-1 div.sk-container {/* jupyter's `normalize.less` sets `[hidden] { display: none; }` but bootstrap.min.css set `[hidden] { display: none !important; }` so we also need the `!important` here to be able to override the default hidden behavior on the sphinx rendered scikit-learn.org. See: https://github.com/scikit-learn/scikit-learn/issues/21755 */display: inline-block !important;position: relative;}#sk-container-id-1 div.sk-text-repr-fallback {display: none;}</style><div id=\"sk-container-id-1\" class=\"sk-top-container\"><div class=\"sk-text-repr-fallback\"><pre>DummyClassifier(constant=None, random_state=None, strategy=&#x27;most_frequent&#x27;)</pre><b>In a Jupyter environment, please rerun this cell to show the HTML representation or trust the notebook. <br />On GitHub, the HTML representation is unable to render, please try loading this page with nbviewer.org.</b></div><div class=\"sk-container\" hidden><div class=\"sk-item\"><div class=\"sk-estimator sk-toggleable\"><input class=\"sk-toggleable__control sk-hidden--visually\" id=\"sk-estimator-id-1\" type=\"checkbox\" checked><label for=\"sk-estimator-id-1\" class=\"sk-toggleable__label sk-toggleable__label-arrow\">DummyClassifier</label><div class=\"sk-toggleable__content\"><pre>DummyClassifier(constant=None, random_state=None, strategy=&#x27;most_frequent&#x27;)</pre></div></div></div></div></div>"
      ],
      "text/plain": [
       "DummyClassifier(constant=None, random_state=None, strategy='most_frequent')"
      ]
     },
     "execution_count": 31,
     "metadata": {},
     "output_type": "execute_result"
    }
   ],
   "source": [
    "# Instantiate the Dummy Classifier model\n",
    "from sklearn.dummy import DummyClassifier\n",
    "classifier = DummyClassifier(strategy=\"most_frequent\")\n",
    "classifier\n",
    "\n",
    "# Fit the model using training data\n",
    "classifier.fit(X_train, y_train)"
   ]
  },
  {
   "cell_type": "code",
   "execution_count": 32,
   "id": "5b8f1ead",
   "metadata": {},
   "outputs": [
    {
     "data": {
      "text/plain": [
       "array([0, 0, 0, ..., 0, 0, 0])"
      ]
     },
     "execution_count": 32,
     "metadata": {},
     "output_type": "execute_result"
    }
   ],
   "source": [
    "# Make a prediction using the testing data\n",
    "predictions = classifier.predict(X_test)\n",
    "predictions"
   ]
  },
  {
   "cell_type": "code",
   "execution_count": 33,
   "id": "7673afad",
   "metadata": {},
   "outputs": [
    {
     "data": {
      "text/plain": [
       "0.9491094147582697"
      ]
     },
     "execution_count": 33,
     "metadata": {},
     "output_type": "execute_result"
    }
   ],
   "source": [
    "#Generate accuracy score\n",
    "accuracy_score(y_test, predictions)"
   ]
  },
  {
   "cell_type": "code",
   "execution_count": 34,
   "id": "9eb46ae6",
   "metadata": {},
   "outputs": [
    {
     "data": {
      "text/plain": [
       "array([[1119,    0],\n",
       "       [  60,    0]])"
      ]
     },
     "metadata": {},
     "output_type": "display_data"
    }
   ],
   "source": [
    "# Generate a confusion matrix for the model\n",
    "cm = confusion_matrix(y_test, predictions)\n",
    "display(cm)"
   ]
  },
  {
   "cell_type": "code",
   "execution_count": 35,
   "id": "802f1bf0",
   "metadata": {},
   "outputs": [
    {
     "name": "stdout",
     "output_type": "stream",
     "text": [
      "              precision    recall  f1-score   support\n",
      "\n",
      "           0       0.95      1.00      0.97      1119\n",
      "           1       0.00      0.00      0.00        60\n",
      "\n",
      "    accuracy                           0.95      1179\n",
      "   macro avg       0.47      0.50      0.49      1179\n",
      "weighted avg       0.90      0.95      0.92      1179\n",
      "\n"
     ]
    }
   ],
   "source": [
    "#Generating classification report\n",
    "print(classification_report(y_test, predictions))"
   ]
  },
  {
   "cell_type": "code",
   "execution_count": 36,
   "id": "5fc472fb",
   "metadata": {},
   "outputs": [
    {
     "data": {
      "image/png": "[encoded data removed]",
      "text/plain": [
       "<Figure size 800x550 with 2 Axes>"
      ]
     },
     "metadata": {},
     "output_type": "display_data"
    }
   ],
   "source": [
    "#Generating confusion matrix\n",
    "conf_matrix = confusion_matrix(y_test, predictions)\n",
    "sns.heatmap(conf_matrix, annot=True, cmap='Blues', fmt='g')\n",
    "plt.xlabel('Predicted label')\n",
    "plt.ylabel('True label')\n",
    "plt.title(\"Confusion Matrix\")\n",
    "plt.show()"
   ]
  },
  {
   "cell_type": "markdown",
   "id": "d087282a",
   "metadata": {},
   "source": [
    "True Negatives: 1119\n",
    "False Positives: 0\n",
    "False Negatives: 60\n",
    "True Positives: 0\n",
    "\n",
    "As we can see the accuracy of the model is quite high 94.91%, but from the confusion matrix could be seen that all the prediction is just negative, so I wouldn't recommend to use that model to predict stroke risk, because so far it's just gives us negative result. Deeper research need to be done to see the model prediction potential."
   ]
  },
  {
   "cell_type": "markdown",
   "id": "0a6e2e32",
   "metadata": {},
   "source": [
    "## Model 2: Linear Discriminant Analysis"
   ]
  },
  {
   "cell_type": "code",
   "execution_count": 37,
   "id": "8023298b",
   "metadata": {},
   "outputs": [
    {
     "data": {
      "text/html": [
       "<style>#sk-container-id-2 {color: black;background-color: white;}#sk-container-id-2 pre{padding: 0;}#sk-container-id-2 div.sk-toggleable {background-color: white;}#sk-container-id-2 label.sk-toggleable__label {cursor: pointer;display: block;width: 100%;margin-bottom: 0;padding: 0.3em;box-sizing: border-box;text-align: center;}#sk-container-id-2 label.sk-toggleable__label-arrow:before {content: \"▸\";float: left;margin-right: 0.25em;color: #696969;}#sk-container-id-2 label.sk-toggleable__label-arrow:hover:before {color: black;}#sk-container-id-2 div.sk-estimator:hover label.sk-toggleable__label-arrow:before {color: black;}#sk-container-id-2 div.sk-toggleable__content {max-height: 0;max-width: 0;overflow: hidden;text-align: left;background-color: #f0f8ff;}#sk-container-id-2 div.sk-toggleable__content pre {margin: 0.2em;color: black;border-radius: 0.25em;background-color: #f0f8ff;}#sk-container-id-2 input.sk-toggleable__control:checked~div.sk-toggleable__content {max-height: 200px;max-width: 100%;overflow: auto;}#sk-container-id-2 input.sk-toggleable__control:checked~label.sk-toggleable__label-arrow:before {content: \"▾\";}#sk-container-id-2 div.sk-estimator input.sk-toggleable__control:checked~label.sk-toggleable__label {background-color: #d4ebff;}#sk-container-id-2 div.sk-label input.sk-toggleable__control:checked~label.sk-toggleable__label {background-color: #d4ebff;}#sk-container-id-2 input.sk-hidden--visually {border: 0;clip: rect(1px 1px 1px 1px);clip: rect(1px, 1px, 1px, 1px);height: 1px;margin: -1px;overflow: hidden;padding: 0;position: absolute;width: 1px;}#sk-container-id-2 div.sk-estimator {font-family: monospace;background-color: #f0f8ff;border: 1px dotted black;border-radius: 0.25em;box-sizing: border-box;margin-bottom: 0.5em;}#sk-container-id-2 div.sk-estimator:hover {background-color: #d4ebff;}#sk-container-id-2 div.sk-parallel-item::after {content: \"\";width: 100%;border-bottom: 1px solid gray;flex-grow: 1;}#sk-container-id-2 div.sk-label:hover label.sk-toggleable__label {background-color: #d4ebff;}#sk-container-id-2 div.sk-serial::before {content: \"\";position: absolute;border-left: 1px solid gray;box-sizing: border-box;top: 0;bottom: 0;left: 50%;z-index: 0;}#sk-container-id-2 div.sk-serial {display: flex;flex-direction: column;align-items: center;background-color: white;padding-right: 0.2em;padding-left: 0.2em;position: relative;}#sk-container-id-2 div.sk-item {position: relative;z-index: 1;}#sk-container-id-2 div.sk-parallel {display: flex;align-items: stretch;justify-content: center;background-color: white;position: relative;}#sk-container-id-2 div.sk-item::before, #sk-container-id-2 div.sk-parallel-item::before {content: \"\";position: absolute;border-left: 1px solid gray;box-sizing: border-box;top: 0;bottom: 0;left: 50%;z-index: -1;}#sk-container-id-2 div.sk-parallel-item {display: flex;flex-direction: column;z-index: 1;position: relative;background-color: white;}#sk-container-id-2 div.sk-parallel-item:first-child::after {align-self: flex-end;width: 50%;}#sk-container-id-2 div.sk-parallel-item:last-child::after {align-self: flex-start;width: 50%;}#sk-container-id-2 div.sk-parallel-item:only-child::after {width: 0;}#sk-container-id-2 div.sk-dashed-wrapped {border: 1px dashed gray;margin: 0 0.4em 0.5em 0.4em;box-sizing: border-box;padding-bottom: 0.4em;background-color: white;}#sk-container-id-2 div.sk-label label {font-family: monospace;font-weight: bold;display: inline-block;line-height: 1.2em;}#sk-container-id-2 div.sk-label-container {text-align: center;}#sk-container-id-2 div.sk-container {/* jupyter's `normalize.less` sets `[hidden] { display: none; }` but bootstrap.min.css set `[hidden] { display: none !important; }` so we also need the `!important` here to be able to override the default hidden behavior on the sphinx rendered scikit-learn.org. See: https://github.com/scikit-learn/scikit-learn/issues/21755 */display: inline-block !important;position: relative;}#sk-container-id-2 div.sk-text-repr-fallback {display: none;}</style><div id=\"sk-container-id-2\" class=\"sk-top-container\"><div class=\"sk-text-repr-fallback\"><pre>LinearDiscriminantAnalysis(covariance_estimator=None, n_components=None,\n",
       "                           priors=None, shrinkage=None, solver=&#x27;svd&#x27;,\n",
       "                           store_covariance=False, tol=0.0001)</pre><b>In a Jupyter environment, please rerun this cell to show the HTML representation or trust the notebook. <br />On GitHub, the HTML representation is unable to render, please try loading this page with nbviewer.org.</b></div><div class=\"sk-container\" hidden><div class=\"sk-item\"><div class=\"sk-estimator sk-toggleable\"><input class=\"sk-toggleable__control sk-hidden--visually\" id=\"sk-estimator-id-2\" type=\"checkbox\" checked><label for=\"sk-estimator-id-2\" class=\"sk-toggleable__label sk-toggleable__label-arrow\">LinearDiscriminantAnalysis</label><div class=\"sk-toggleable__content\"><pre>LinearDiscriminantAnalysis(covariance_estimator=None, n_components=None,\n",
       "                           priors=None, shrinkage=None, solver=&#x27;svd&#x27;,\n",
       "                           store_covariance=False, tol=0.0001)</pre></div></div></div></div></div>"
      ],
      "text/plain": [
       "LinearDiscriminantAnalysis(covariance_estimator=None, n_components=None,\n",
       "                           priors=None, shrinkage=None, solver='svd',\n",
       "                           store_covariance=False, tol=0.0001)"
      ]
     },
     "execution_count": 37,
     "metadata": {},
     "output_type": "execute_result"
    }
   ],
   "source": [
    "# Instantiate the Linear Discriminant Analysis\n",
    "from sklearn.discriminant_analysis import LinearDiscriminantAnalysis\n",
    "clfLinear = LinearDiscriminantAnalysis()\n",
    "clfLinear\n",
    "\n",
    "# Fit the model using training data\n",
    "clfLinear.fit(X_train, y_train)"
   ]
  },
  {
   "cell_type": "code",
   "execution_count": 38,
   "id": "b849bb63",
   "metadata": {},
   "outputs": [],
   "source": [
    "# Make a prediction using the testing data\n",
    "clfpredict = clfLinear.predict(X_test)"
   ]
  },
  {
   "cell_type": "code",
   "execution_count": 39,
   "id": "7d1c377d",
   "metadata": {},
   "outputs": [
    {
     "data": {
      "text/plain": [
       "0.9474130619168787"
      ]
     },
     "execution_count": 39,
     "metadata": {},
     "output_type": "execute_result"
    }
   ],
   "source": [
    "#Generate accuracy score\n",
    "accuracy_score(y_test, clfpredict)"
   ]
  },
  {
   "cell_type": "code",
   "execution_count": 40,
   "id": "f2a2eadd",
   "metadata": {},
   "outputs": [
    {
     "data": {
      "text/plain": [
       "array([[1110,    9],\n",
       "       [  53,    7]])"
      ]
     },
     "metadata": {},
     "output_type": "display_data"
    }
   ],
   "source": [
    "# Generate a confusion matrix for the model\n",
    "cmLin = confusion_matrix(y_test, clfpredict)\n",
    "display(cmLin)"
   ]
  },
  {
   "cell_type": "code",
   "execution_count": 41,
   "id": "548bd70a",
   "metadata": {},
   "outputs": [
    {
     "name": "stdout",
     "output_type": "stream",
     "text": [
      "              precision    recall  f1-score   support\n",
      "\n",
      "           0       0.95      0.99      0.97      1119\n",
      "           1       0.44      0.12      0.18        60\n",
      "\n",
      "    accuracy                           0.95      1179\n",
      "   macro avg       0.70      0.55      0.58      1179\n",
      "weighted avg       0.93      0.95      0.93      1179\n",
      "\n"
     ]
    }
   ],
   "source": [
    "#Generating classification report\n",
    "print(classification_report(y_test, clfpredict))"
   ]
  },
  {
   "cell_type": "code",
   "execution_count": 42,
   "id": "220fa2ce",
   "metadata": {},
   "outputs": [
    {
     "data": {
      "image/png": "[encoded data removed]",
      "text/plain": [
       "<Figure size 800x550 with 2 Axes>"
      ]
     },
     "metadata": {},
     "output_type": "display_data"
    }
   ],
   "source": [
    "#Generating confusion matrix\n",
    "conf_matrix = confusion_matrix(y_test, clfpredict)\n",
    "sns.heatmap(conf_matrix, annot=True, cmap='Blues', fmt='g')\n",
    "plt.xlabel('Predicted label')\n",
    "plt.ylabel('True label')\n",
    "plt.title(\"Confusion Matrix\")\n",
    "plt.show()"
   ]
  },
  {
   "cell_type": "markdown",
   "id": "b0463ed9",
   "metadata": {},
   "source": [
    "True Negatives: 1110\n",
    "False Positives: 9\n",
    "False Negatives: 53\n",
    "True Positives: 7\n",
    "\n",
    "As we can see the accuracy of the model is quite high 94.74%."
   ]
  },
  {
   "cell_type": "markdown",
   "id": "aedc1a60",
   "metadata": {},
   "source": [
    "# Step 6\n",
    "## Model comparison\n",
    "As we can see above Dummy Classifier and Linear Discriminant Analysis gives us almost same accuracy score 94.91% vs 94.74%. But after discovering confusion matrix my suggestian is to use Linear Discriminant Analysis, because the prediction outcomes are more variacative, and Dummy Classifier model need deeper learing."
   ]
  },
  {
   "cell_type": "markdown",
   "id": "69a8678f",
   "metadata": {},
   "source": [
    "# Try yourself"
   ]
  },
  {
   "cell_type": "code",
   "execution_count": 43,
   "id": "ad7e922b",
   "metadata": {},
   "outputs": [
    {
     "name": "stdout",
     "output_type": "stream",
     "text": [
      "What is your gender?\n",
      "(0 - Female, 1 - Male)\n",
      "1\n",
      "What is your age?\n",
      "78\n",
      "Do you have hypertension?\n",
      "(0 - No, 1 - Yes)\n",
      "1\n",
      "Do you have heart_disease?\n",
      "(0 - No, 1 - Yes)\n",
      "1\n",
      "Have you been ever married? \n",
      "(0 - No, 1 - Yes)\n",
      "0\n",
      "What is your work type? \n",
      "(0 - Private, 1 - Self employed, 2 - Children, 3 - Goverment job, 4 - Never worked)\n",
      "1\n",
      "What is your residence type? \n",
      "(0 - Rural, 1 - Urban)\n",
      "0\n",
      "What is your avgerage glucose level?\n",
      "92.62\n",
      "What is your bmi?\n",
      "40\n",
      "What is your smoking habit? \n",
      "(0 - Never smoked, 1 - Unknown, 2 - Formerly smoked, 3 - Smokes)\n",
      "2\n",
      "\n",
      "\n",
      "Stroke positive\n"
     ]
    }
   ],
   "source": [
    "#input values\n",
    "Gender = input('What is your gender?\\n(0 - Female, 1 - Male)\\n')\n",
    "Age = input('What is your age?\\n')\n",
    "hypertension = input('Do you have hypertension?\\n(0 - No, 1 - Yes)\\n')\n",
    "heart_disease = input('Do you have heart_disease?\\n(0 - No, 1 - Yes)\\n')\n",
    "ever_married = input('Have you been ever married? \\n(0 - No, 1 - Yes)\\n')\n",
    "work_type = input('What is your work type? \\n(0 - Private, 1 - Self employed, 2 - Children, 3 - Goverment job, 4 - Never worked)\\n')\n",
    "Residence_type = input('What is your residence type? \\n(0 - Rural, 1 - Urban)\\n')\n",
    "avg_glucose_level = input('What is your avgerage glucose level?\\n')\n",
    "bmi = input('What is your bmi?\\n')\n",
    "smoking_status = input('What is your smoking habit? \\n(0 - Never smoked, 1 - Unknown, 2 - Formerly smoked, 3 - Smokes)\\n')\n",
    "\n",
    "#add inputed values to dataframe\n",
    "check = [{\"gender\":Gender, \"age\": Age, \"hypertension\": hypertension, \"heart_disease\": heart_disease, \"ever_married\":ever_married, \"work_type\":work_type, \"Residence_type\": Residence_type, \"avg_glucose_level\": avg_glucose_level, \"bmi\":bmi, \"smoking_status\": smoking_status}]\n",
    "\n",
    "#add data to originaldata to scale them\n",
    "playaround = df_ready.copy()\n",
    "playaround = playaround.append(check, ignore_index=True)\n",
    "\n",
    "#scale the age, average glucose level and bmi columns\n",
    "myprediction = playaround.copy()\n",
    "mypredictiony = playaround['stroke']\n",
    "myprediction = myprediction.drop(columns=\"stroke\")\n",
    "myprediction1 = myprediction[[\"age\", \"avg_glucose_level\", \"bmi\"]]\n",
    "myprediction12 = myprediction.drop(columns=[\"age\", \"avg_glucose_level\", \"bmi\"])\n",
    "from sklearn import preprocessing\n",
    "dplay = preprocessing.scale(myprediction1)\n",
    "scaled_play = pd.DataFrame(dplay)\n",
    "scaled_play.columns = [\"age\",\"avg_glucose_level\", \"bmi\"]\n",
    "scaled_play = pd.merge(scaled_play, myprediction12, left_index=True, right_index=True)\n",
    "\n",
    "#make a prediction\n",
    "clfpredict_play = clfLinear.predict(scaled_play)\n",
    "\n",
    "#sava predicted value to variable\n",
    "outcome = clfpredict_play[-1]\n",
    "\n",
    "print('\\n')\n",
    "#print the outcome for prediction\n",
    "if clfpredict_play[-1] == 0:\n",
    "    print(\"Stroke negative\")\n",
    "else:\n",
    "    print(\"Stroke positive\")"
   ]
  }
 ],
 "metadata": {
  "kernelspec": {
   "display_name": "Python 3 (ipykernel)",
   "language": "python",
   "name": "python3"
  },
  "language_info": {
   "codemirror_mode": {
    "name": "ipython",
    "version": 3
   },
   "file_extension": ".py",
   "mimetype": "text/x-python",
   "name": "python",
   "nbconvert_exporter": "python",
   "pygments_lexer": "ipython3",
   "version": "3.9.16"
  }
 },
 "nbformat": 4,
 "nbformat_minor": 5
}
